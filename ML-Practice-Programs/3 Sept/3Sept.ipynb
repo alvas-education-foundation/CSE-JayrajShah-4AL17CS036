{
  "nbformat": 4,
  "nbformat_minor": 0,
  "metadata": {
    "colab": {
      "name": "3Sept.ipynb",
      "provenance": [],
      "collapsed_sections": []
    },
    "kernelspec": {
      "name": "python3",
      "display_name": "Python 3"
    }
  },
  "cells": [
    {
      "cell_type": "code",
      "metadata": {
        "id": "xxW8aA0iAFK-",
        "colab_type": "code",
        "colab": {
          "base_uri": "https://localhost:8080/",
          "height": 51
        },
        "outputId": "4c16b879-5068-44f6-c574-76dc2c599718"
      },
      "source": [
        "def word_count(str):\n",
        "    counts = dict()\n",
        "    words = str.split()\n",
        "    for word in words:\n",
        "        if word in counts:\n",
        "            counts[word] += 1\n",
        "        else:\n",
        "            counts[word] = 1\n",
        "    return counts\n",
        "\n",
        "str = input(\"Enter the String : \")\n",
        "print( word_count(str))"
      ],
      "execution_count": 1,
      "outputs": [
        {
          "output_type": "stream",
          "text": [
            "Enter the String : JJS STRAIGHT OUTTA HELL\n",
            "{'JJS': 1, 'STRAIGHT': 1, 'OUTTA': 1, 'HELL': 1}\n"
          ],
          "name": "stdout"
        }
      ]
    },
    {
      "cell_type": "code",
      "metadata": {
        "id": "ubQ1LrgrANsP",
        "colab_type": "code",
        "colab": {
          "base_uri": "https://localhost:8080/",
          "height": 51
        },
        "outputId": "e4c99da9-7c9e-4fb2-d05d-683e5f0955e0"
      },
      "source": [
        "def Remove(duplicate): \n",
        "    final_list = [] \n",
        "    for num in duplicate: \n",
        "        if num not in final_list: \n",
        "            final_list.append(num) \n",
        "    return final_list \n",
        "\n",
        "arr = input(\"Enter the Elements : \")\n",
        "duplicate = arr.split()\n",
        "print(Remove(duplicate))"
      ],
      "execution_count": 2,
      "outputs": [
        {
          "output_type": "stream",
          "text": [
            "Enter the Elements : 7 65 34 9 343 233 233 9 7\n",
            "['7', '65', '34', '9', '343', '233']\n"
          ],
          "name": "stdout"
        }
      ]
    },
    {
      "cell_type": "code",
      "metadata": {
        "id": "x3fz7g3gAVOk",
        "colab_type": "code",
        "colab": {
          "base_uri": "https://localhost:8080/",
          "height": 51
        },
        "outputId": "7f646840-e2f0-45f6-ab12-e84839b374ea"
      },
      "source": [
        "def count_range_in_list(li, min, max):\n",
        "\tctr = 0\n",
        "\tfor x in li:\n",
        "\t\tif min <= x <= max:\n",
        "\t\t\tctr += 1\n",
        "\treturn ctr\n",
        "\n",
        "list1 = [10,20,30,40,40,40,70,80,99]\n",
        "print(count_range_in_list(list1, 40, 100))\n",
        "\n",
        "list2 = ['a','b','c','d','e','f']\n",
        "print(count_range_in_list(list2, 'a', 'e'))"
      ],
      "execution_count": 3,
      "outputs": [
        {
          "output_type": "stream",
          "text": [
            "6\n",
            "5\n"
          ],
          "name": "stdout"
        }
      ]
    },
    {
      "cell_type": "code",
      "metadata": {
        "id": "b3fjvH6yAYCq",
        "colab_type": "code",
        "colab": {
          "base_uri": "https://localhost:8080/",
          "height": 34
        },
        "outputId": "f3f96e0c-59ba-45e7-fe20-29fe949e67f1"
      },
      "source": [
        "d1 = {'a': 100, 'b': 200}\n",
        "d2 = {'x': 300, 'y': 200}\n",
        "d = d1.copy()\n",
        "d.update(d2)\n",
        "print(d)"
      ],
      "execution_count": 4,
      "outputs": [
        {
          "output_type": "stream",
          "text": [
            "{'a': 100, 'b': 200, 'x': 300, 'y': 200}\n"
          ],
          "name": "stdout"
        }
      ]
    },
    {
      "cell_type": "code",
      "metadata": {
        "id": "2NCW-KhaAagA",
        "colab_type": "code",
        "colab": {
          "base_uri": "https://localhost:8080/",
          "height": 34
        },
        "outputId": "527e0b65-eddb-4027-b340-414bf1036775"
      },
      "source": [
        "from heapq import nlargest\n",
        "my_dict = {'a':500, 'b':5874, 'c': 560,'d':400, 'e':5874, 'f': 20}  \n",
        "three_largest = nlargest(3, my_dict, key=my_dict.get)\n",
        "print(three_largest)"
      ],
      "execution_count": 5,
      "outputs": [
        {
          "output_type": "stream",
          "text": [
            "['b', 'e', 'c']\n"
          ],
          "name": "stdout"
        }
      ]
    },
    {
      "cell_type": "code",
      "metadata": {
        "id": "nnf5teuEAc4e",
        "colab_type": "code",
        "colab": {
          "base_uri": "https://localhost:8080/",
          "height": 34
        },
        "outputId": "e5409296-1ac9-4183-ed9a-4a8ab0f26737"
      },
      "source": [
        "tup = ('J', 'A', 'Y', 'R', 'A', 'J', ' ', 'S', 'H', 'A', \"H\")\n",
        "str =  ''.join(tup)\n",
        "print(str)"
      ],
      "execution_count": 7,
      "outputs": [
        {
          "output_type": "stream",
          "text": [
            "JAYRAJ SHAH\n"
          ],
          "name": "stdout"
        }
      ]
    },
    {
      "cell_type": "code",
      "metadata": {
        "id": "ewdn6U1mApW6",
        "colab_type": "code",
        "colab": {
          "base_uri": "https://localhost:8080/",
          "height": 34
        },
        "outputId": "b5b8efa4-fe8d-47f8-ca9b-80686649f3aa"
      },
      "source": [
        "def Reverse(tuples): \n",
        "    new_tup = tuples[::-1] \n",
        "    return new_tup \n",
        "      \n",
        "# Driver Code \n",
        "tuples = ('z','a','d','f','g','e','e','k') \n",
        "print(Reverse(tuples))"
      ],
      "execution_count": 8,
      "outputs": [
        {
          "output_type": "stream",
          "text": [
            "('k', 'e', 'e', 'g', 'f', 'd', 'a', 'z')\n"
          ],
          "name": "stdout"
        }
      ]
    },
    {
      "cell_type": "code",
      "metadata": {
        "id": "GilzZdqgAqOC",
        "colab_type": "code",
        "colab": {
          "base_uri": "https://localhost:8080/",
          "height": 54
        },
        "outputId": "cea18521-f8e5-4367-88da-49a5df765711"
      },
      "source": [
        "import textwrap\n",
        "sample_text = ''' Lorem ipsum dolor sit amet, consectetur adipiscing elit, sed do eiusmod tempor incididunt ut labore et dolore magna aliqua. Ut enim ad minim veniam, quis nostrud exercitation ullamco laboris nisi ut aliquip ex ea commodo consequat. Duis aute irure dolor in reprehenderit in voluptate velit esse cillum dolore eu fugiat nulla pariatur. Excepteur sint occaecat cupidatat non proident, sunt in culpa qui officia deserunt mollit anim id est laborum. '''\n",
        "text_without_Indentation = textwrap.dedent(sample_text)\n",
        "\n",
        "print(text_without_Indentation )"
      ],
      "execution_count": 10,
      "outputs": [
        {
          "output_type": "stream",
          "text": [
            "Lorem ipsum dolor sit amet, consectetur adipiscing elit, sed do eiusmod tempor incididunt ut labore et dolore magna aliqua. Ut enim ad minim veniam, quis nostrud exercitation ullamco laboris nisi ut aliquip ex ea commodo consequat. Duis aute irure dolor in reprehenderit in voluptate velit esse cillum dolore eu fugiat nulla pariatur. Excepteur sint occaecat cupidatat non proident, sunt in culpa qui officia deserunt mollit anim id est laborum. \n"
          ],
          "name": "stdout"
        }
      ]
    }
  ]
}