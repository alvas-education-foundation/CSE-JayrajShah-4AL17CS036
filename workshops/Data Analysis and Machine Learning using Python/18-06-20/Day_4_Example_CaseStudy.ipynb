{
  "nbformat": 4,
  "nbformat_minor": 0,
  "metadata": {
    "colab": {
      "name": "Day 4 Example CaseStudy.ipynb",
      "provenance": [],
      "collapsed_sections": [],
      "authorship_tag": "ABX9TyOhFUCWU31N+IAKxAiUiqhm",
      "include_colab_link": true
    },
    "kernelspec": {
      "name": "python3",
      "display_name": "Python 3"
    }
  },
  "cells": [
    {
      "cell_type": "markdown",
      "metadata": {
        "id": "view-in-github",
        "colab_type": "text"
      },
      "source": [
        "<a href=\"https://colab.research.google.com/github/JayrajShah/DataAnalysis-MachineLearning-with-Python/blob/master/Day_4_Example_CaseStudy.ipynb\" target=\"_parent\"><img src=\"https://colab.research.google.com/assets/colab-badge.svg\" alt=\"Open In Colab\"/></a>"
      ]
    },
    {
      "cell_type": "markdown",
      "metadata": {
        "id": "ETFafn5ZTkpf",
        "colab_type": "text"
      },
      "source": [
        "# DAY 4 Example Case Study"
      ]
    },
    {
      "cell_type": "markdown",
      "metadata": {
        "id": "BMrmuQo6I-0n",
        "colab_type": "text"
      },
      "source": [
        "#### Data Cleaning is the process of preventing and correcting the errors such as duplicates, misssing values and incomplet data by importing libraries pandas and numpy"
      ]
    },
    {
      "cell_type": "code",
      "metadata": {
        "id": "QSI3mBpYJBmd",
        "colab_type": "code",
        "colab": {
          "resources": {
            "http://localhost:8080/nbextensions/google.colab/files.js": {
              "data": "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",
              "ok": true,
              "headers": [
                [
                  "content-type",
                  "application/javascript"
                ]
              ],
              "status": 200,
              "status_text": ""
            }
          },
          "base_uri": "https://localhost:8080/",
          "height": 241
        },
        "outputId": "150eac18-e000-45b9-e85b-4fffd5623ca4"
      },
      "source": [
        "import pandas as pd\n",
        "import numpy as np\n",
        "from google.colab import files\n",
        "import io\n",
        "uploaded = files.upload()\n",
        "df = pd.read_csv(io.BytesIO(uploaded['property_data.csv']))\n",
        "# Take a look at the first few rows\n",
        "\n",
        "print(df)"
      ],
      "execution_count": 24,
      "outputs": [
        {
          "output_type": "display_data",
          "data": {
            "text/html": [
              "\n",
              "     <input type=\"file\" id=\"files-02a6e999-52e3-443b-8f24-8d59b86e7227\" name=\"files[]\" multiple disabled\n",
              "        style=\"border:none\" />\n",
              "     <output id=\"result-02a6e999-52e3-443b-8f24-8d59b86e7227\">\n",
              "      Upload widget is only available when the cell has been executed in the\n",
              "      current browser session. Please rerun this cell to enable.\n",
              "      </output>\n",
              "      <script src=\"/nbextensions/google.colab/files.js\"></script> "
            ],
            "text/plain": [
              "<IPython.core.display.HTML object>"
            ]
          },
          "metadata": {
            "tags": []
          }
        },
        {
          "output_type": "stream",
          "text": [
            "Saving property_data.csv to property_data.csv\n",
            "   ST_NUM    ST_NAME NUM_ROOMS OWN_OCCUPIED\n",
            "0   104.0     LEXTON         2            Y\n",
            "1   197.0   BERKELEY         3            N\n",
            "2     NaN  WASHINTON         3            Y\n",
            "3   201.0    TREMONT       NaN            N\n",
            "4   203.0    TREMONT        na           12\n",
            "5   205.0    TREMONT        --            Y\n",
            "6     NaN      BLAZE         4          NaN\n",
            "7   213.0      BLAZE         5            N\n",
            "8   214.0      BLAZE         6            N\n"
          ],
          "name": "stdout"
        }
      ]
    },
    {
      "cell_type": "markdown",
      "metadata": {
        "id": "-Jc4-LHKRvDX",
        "colab_type": "text"
      },
      "source": [
        "Looking at the ST_NUM and NUM_ROOMS columns\n",
        "whether they have any null values\n"
      ]
    },
    {
      "cell_type": "code",
      "metadata": {
        "id": "tU8sNS5URv6b",
        "colab_type": "code",
        "colab": {
          "base_uri": "https://localhost:8080/",
          "height": 689
        },
        "outputId": "2c3ad0aa-1f7b-41a1-dbd4-cf87d1137488"
      },
      "source": [
        "print (df['ST_NUM'])\n",
        "print (df['ST_NUM'].isnull())\n",
        "print(df['NUM_ROOMS'])\n",
        "print(df['NUM_ROOMS'].isnull())"
      ],
      "execution_count": 25,
      "outputs": [
        {
          "output_type": "stream",
          "text": [
            "0    104.0\n",
            "1    197.0\n",
            "2      NaN\n",
            "3    201.0\n",
            "4    203.0\n",
            "5    205.0\n",
            "6      NaN\n",
            "7    213.0\n",
            "8    214.0\n",
            "Name: ST_NUM, dtype: float64\n",
            "0    False\n",
            "1    False\n",
            "2     True\n",
            "3    False\n",
            "4    False\n",
            "5    False\n",
            "6     True\n",
            "7    False\n",
            "8    False\n",
            "Name: ST_NUM, dtype: bool\n",
            "0      2\n",
            "1      3\n",
            "2      3\n",
            "3    NaN\n",
            "4     na\n",
            "5     --\n",
            "6      4\n",
            "7      5\n",
            "8      6\n",
            "Name: NUM_ROOMS, dtype: object\n",
            "0    False\n",
            "1    False\n",
            "2    False\n",
            "3     True\n",
            "4    False\n",
            "5    False\n",
            "6    False\n",
            "7    False\n",
            "8    False\n",
            "Name: NUM_ROOMS, dtype: bool\n"
          ],
          "name": "stdout"
        }
      ]
    },
    {
      "cell_type": "markdown",
      "metadata": {
        "id": "X8hkiPfIR52d",
        "colab_type": "text"
      },
      "source": [
        "To mention possible missing values while opening the le\n"
      ]
    },
    {
      "cell_type": "code",
      "metadata": {
        "id": "SQTz8fbXR6iI",
        "colab_type": "code",
        "colab": {
          "base_uri": "https://localhost:8080/",
          "height": 353
        },
        "outputId": "2eb14285-ca58-4e1b-ae5e-4503440012a9"
      },
      "source": [
        "\n",
        "\n",
        "print(df['NUM_ROOMS'])\n",
        "print(df['NUM_ROOMS'].isnull())\n"
      ],
      "execution_count": 26,
      "outputs": [
        {
          "output_type": "stream",
          "text": [
            "0      2\n",
            "1      3\n",
            "2      3\n",
            "3    NaN\n",
            "4     na\n",
            "5     --\n",
            "6      4\n",
            "7      5\n",
            "8      6\n",
            "Name: NUM_ROOMS, dtype: object\n",
            "0    False\n",
            "1    False\n",
            "2    False\n",
            "3     True\n",
            "4    False\n",
            "5    False\n",
            "6    False\n",
            "7    False\n",
            "8    False\n",
            "Name: NUM_ROOMS, dtype: bool\n"
          ],
          "name": "stdout"
        }
      ]
    },
    {
      "cell_type": "markdown",
      "metadata": {
        "id": "2zDzZSmhSElv",
        "colab_type": "text"
      },
      "source": [
        "The above 3,4 5th index is not numeric whih needs\n",
        "correction again therefore we need coding part for it. It is\n",
        "corrected with coding below"
      ]
    },
    {
      "cell_type": "code",
      "metadata": {
        "id": "zD0S-7RRSIZH",
        "colab_type": "code",
        "colab": {
          "base_uri": "https://localhost:8080/",
          "height": 353
        },
        "outputId": "21eec8b6-9471-4e6e-e3f8-0e86d7034e42"
      },
      "source": [
        "cnt=0\n",
        "for row in df['NUM_ROOMS']:\n",
        "    try:\n",
        "        int(row)\n",
        "    except ValueError:\n",
        "         df.loc[cnt, 'NUM_ROOMS']=np.nan\n",
        "    cnt+=1\n",
        "print(df['NUM_ROOMS'])\n",
        "print(df['NUM_ROOMS'].isnull())"
      ],
      "execution_count": 27,
      "outputs": [
        {
          "output_type": "stream",
          "text": [
            "0      2\n",
            "1      3\n",
            "2      3\n",
            "3    NaN\n",
            "4    NaN\n",
            "5    NaN\n",
            "6      4\n",
            "7      5\n",
            "8      6\n",
            "Name: NUM_ROOMS, dtype: object\n",
            "0    False\n",
            "1    False\n",
            "2    False\n",
            "3     True\n",
            "4     True\n",
            "5     True\n",
            "6    False\n",
            "7    False\n",
            "8    False\n",
            "Name: NUM_ROOMS, dtype: bool\n"
          ],
          "name": "stdout"
        }
      ]
    },
    {
      "cell_type": "code",
      "metadata": {
        "id": "xfAZonZESLeG",
        "colab_type": "code",
        "colab": {
          "base_uri": "https://localhost:8080/",
          "height": 353
        },
        "outputId": "b909dfc0-678f-454d-e4e4-d606cff17530"
      },
      "source": [
        "print(df['OWN_OCCUPIED'])\n",
        "print(df['OWN_OCCUPIED'].isnull())"
      ],
      "execution_count": 28,
      "outputs": [
        {
          "output_type": "stream",
          "text": [
            "0      Y\n",
            "1      N\n",
            "2      Y\n",
            "3      N\n",
            "4     12\n",
            "5      Y\n",
            "6    NaN\n",
            "7      N\n",
            "8      N\n",
            "Name: OWN_OCCUPIED, dtype: object\n",
            "0    False\n",
            "1    False\n",
            "2    False\n",
            "3    False\n",
            "4    False\n",
            "5    False\n",
            "6     True\n",
            "7    False\n",
            "8    False\n",
            "Name: OWN_OCCUPIED, dtype: bool\n"
          ],
          "name": "stdout"
        }
      ]
    },
    {
      "cell_type": "markdown",
      "metadata": {
        "id": "py7Si8BkSNnq",
        "colab_type": "text"
      },
      "source": [
        "The above 4 th index is numeric which needs correction\n",
        "again therefore we need coding part for it. It is corrected\n",
        "with coding below"
      ]
    },
    {
      "cell_type": "code",
      "metadata": {
        "id": "FkckVgsWSOKX",
        "colab_type": "code",
        "colab": {
          "base_uri": "https://localhost:8080/",
          "height": 353
        },
        "outputId": "e28804ed-1d50-4c75-baf9-4bbe1d4ba828"
      },
      "source": [
        "cnt=0\n",
        "for row in df['OWN_OCCUPIED']:\n",
        "    try:\n",
        "        int(row)\n",
        "        df.loc[cnt, 'OWN_OCCUPIED']=np.nan\n",
        "    except ValueError:\n",
        "        pass\n",
        "    cnt+=1\n",
        "print(df['OWN_OCCUPIED'])\n",
        "print(df['OWN_OCCUPIED'].isnull())"
      ],
      "execution_count": 29,
      "outputs": [
        {
          "output_type": "stream",
          "text": [
            "0      Y\n",
            "1      N\n",
            "2      Y\n",
            "3      N\n",
            "4    NaN\n",
            "5      Y\n",
            "6    NaN\n",
            "7      N\n",
            "8      N\n",
            "Name: OWN_OCCUPIED, dtype: object\n",
            "0    False\n",
            "1    False\n",
            "2    False\n",
            "3    False\n",
            "4     True\n",
            "5    False\n",
            "6     True\n",
            "7    False\n",
            "8    False\n",
            "Name: OWN_OCCUPIED, dtype: bool\n"
          ],
          "name": "stdout"
        }
      ]
    },
    {
      "cell_type": "code",
      "metadata": {
        "id": "NDZEmqvuSSbf",
        "colab_type": "code",
        "colab": {
          "base_uri": "https://localhost:8080/",
          "height": 134
        },
        "outputId": "5f247d0a-4822-42a7-bdc2-5e8f1b2c649b"
      },
      "source": [
        "print(df.isnull().sum())\n",
        "print('Total missing values')\n",
        "print(sum(df.isnull().sum()))"
      ],
      "execution_count": 30,
      "outputs": [
        {
          "output_type": "stream",
          "text": [
            "ST_NUM          2\n",
            "ST_NAME         0\n",
            "NUM_ROOMS       3\n",
            "OWN_OCCUPIED    2\n",
            "dtype: int64\n",
            "Total missing values\n",
            "7\n"
          ],
          "name": "stdout"
        }
      ]
    },
    {
      "cell_type": "markdown",
      "metadata": {
        "id": "gF8ZNCTcSZRZ",
        "colab_type": "text"
      },
      "source": [
        "The coding below is an alternative to the above one.\n"
      ]
    },
    {
      "cell_type": "code",
      "metadata": {
        "id": "fVFhTR65Sau7",
        "colab_type": "code",
        "colab": {
          "base_uri": "https://localhost:8080/",
          "height": 101
        },
        "outputId": "6270ddb0-bae0-4924-9f70-65edb1a92097"
      },
      "source": [
        "print(df['ST_NUM'].isnull().sum()) \n",
        "print(df['ST_NAME'].isnull().sum()) \n",
        "print(df['NUM_ROOMS'].isnull().sum()) \n",
        "print(df['OWN_OCCUPIED'].isnull().sum()) \n",
        "print(df.isnull().sum().sum())\n"
      ],
      "execution_count": 31,
      "outputs": [
        {
          "output_type": "stream",
          "text": [
            "2\n",
            "0\n",
            "3\n",
            "2\n",
            "7\n"
          ],
          "name": "stdout"
        }
      ]
    },
    {
      "cell_type": "markdown",
      "metadata": {
        "id": "0vR9QB7ESc5r",
        "colab_type": "text"
      },
      "source": [
        "Finding COUNT AND average of  missing of each mission fields and Total number of df.shape\n"
      ]
    },
    {
      "cell_type": "code",
      "metadata": {
        "id": "KnZvqXFoSeu0",
        "colab_type": "code",
        "colab": {
          "base_uri": "https://localhost:8080/",
          "height": 84
        },
        "outputId": "cf660435-ea18-4303-a7c8-208d2cf6ca35"
      },
      "source": [
        "\n",
        "print(df['ST_NUM'].isnull().sum()/9.0)\n",
        "print(df['ST_NAME'].isnull().sum()/9.0) \n",
        "print(df['NUM_ROOMS'].isnull().sum()/9.0) \n",
        "print(df['OWN_OCCUPIED'].isnull().sum()/9.0)"
      ],
      "execution_count": 33,
      "outputs": [
        {
          "output_type": "stream",
          "text": [
            "0.2222222222222222\n",
            "0.0\n",
            "0.3333333333333333\n",
            "0.2222222222222222\n"
          ],
          "name": "stdout"
        }
      ]
    },
    {
      "cell_type": "code",
      "metadata": {
        "id": "Z1NGVWKwSrwV",
        "colab_type": "code",
        "colab": {
          "base_uri": "https://localhost:8080/",
          "height": 202
        },
        "outputId": "82fedb1f-1c90-4d59-d0b0-6d87c069d2b2"
      },
      "source": [
        "df['ST_NUM'].fillna(125, inplace=True)\n",
        "print('   ST_NUM')\n",
        "print(df['ST_NUM'])"
      ],
      "execution_count": 34,
      "outputs": [
        {
          "output_type": "stream",
          "text": [
            "   ST_NUM\n",
            "0    104.0\n",
            "1    197.0\n",
            "2    125.0\n",
            "3    201.0\n",
            "4    203.0\n",
            "5    205.0\n",
            "6    125.0\n",
            "7    213.0\n",
            "8    214.0\n",
            "Name: ST_NUM, dtype: float64\n"
          ],
          "name": "stdout"
        }
      ]
    },
    {
      "cell_type": "code",
      "metadata": {
        "id": "WfTLg1FzSxiF",
        "colab_type": "code",
        "colab": {
          "base_uri": "https://localhost:8080/",
          "height": 185
        },
        "outputId": "d4b2074c-9ff5-4ff2-c80c-09dd220b366d"
      },
      "source": [
        "median = df['NUM_ROOMS'].median()\n",
        "df['NUM_ROOMS'].fillna(median, inplace=True)\n",
        "print(df['NUM_ROOMS'])\n"
      ],
      "execution_count": 35,
      "outputs": [
        {
          "output_type": "stream",
          "text": [
            "0      2\n",
            "1      3\n",
            "2      3\n",
            "3    3.5\n",
            "4    3.5\n",
            "5    3.5\n",
            "6      4\n",
            "7      5\n",
            "8      6\n",
            "Name: NUM_ROOMS, dtype: object\n"
          ],
          "name": "stdout"
        }
      ]
    },
    {
      "cell_type": "code",
      "metadata": {
        "id": "yAGNOBzrS1qE",
        "colab_type": "code",
        "colab": {
          "base_uri": "https://localhost:8080/",
          "height": 185
        },
        "outputId": "a5143861-e3f1-4809-e6b2-6baa36d872d6"
      },
      "source": [
        "print(df)"
      ],
      "execution_count": 36,
      "outputs": [
        {
          "output_type": "stream",
          "text": [
            "   ST_NUM    ST_NAME NUM_ROOMS OWN_OCCUPIED\n",
            "0   104.0     LEXTON         2            Y\n",
            "1   197.0   BERKELEY         3            N\n",
            "2   125.0  WASHINTON         3            Y\n",
            "3   201.0    TREMONT       3.5            N\n",
            "4   203.0    TREMONT       3.5          NaN\n",
            "5   205.0    TREMONT       3.5            Y\n",
            "6   125.0      BLAZE         4          NaN\n",
            "7   213.0      BLAZE         5            N\n",
            "8   214.0      BLAZE         6            N\n"
          ],
          "name": "stdout"
        }
      ]
    },
    {
      "cell_type": "markdown",
      "metadata": {
        "id": "0RVWGqX2S4lq",
        "colab_type": "text"
      },
      "source": [
        "To find the maxmum occurrence of the values in the attribute OWN_OCCUPIED"
      ]
    },
    {
      "cell_type": "code",
      "metadata": {
        "id": "dXUCHtF-S8W8",
        "colab_type": "code",
        "colab": {
          "base_uri": "https://localhost:8080/",
          "height": 34
        },
        "outputId": "5ea1d308-37d8-4935-b6a6-23cab8b45b82"
      },
      "source": [
        "df['OWN_OCCUPIED'].value_counts().idxmax()\n"
      ],
      "execution_count": 37,
      "outputs": [
        {
          "output_type": "execute_result",
          "data": {
            "text/plain": [
              "'N'"
            ]
          },
          "metadata": {
            "tags": []
          },
          "execution_count": 37
        }
      ]
    },
    {
      "cell_type": "code",
      "metadata": {
        "id": "496ZJUJMS_Hn",
        "colab_type": "code",
        "colab": {
          "base_uri": "https://localhost:8080/",
          "height": 314
        },
        "outputId": "8a6ef72b-f33f-4a46-be40-e93344c0f46a"
      },
      "source": [
        "df\n"
      ],
      "execution_count": 38,
      "outputs": [
        {
          "output_type": "execute_result",
          "data": {
            "text/html": [
              "<div>\n",
              "<style scoped>\n",
              "    .dataframe tbody tr th:only-of-type {\n",
              "        vertical-align: middle;\n",
              "    }\n",
              "\n",
              "    .dataframe tbody tr th {\n",
              "        vertical-align: top;\n",
              "    }\n",
              "\n",
              "    .dataframe thead th {\n",
              "        text-align: right;\n",
              "    }\n",
              "</style>\n",
              "<table border=\"1\" class=\"dataframe\">\n",
              "  <thead>\n",
              "    <tr style=\"text-align: right;\">\n",
              "      <th></th>\n",
              "      <th>ST_NUM</th>\n",
              "      <th>ST_NAME</th>\n",
              "      <th>NUM_ROOMS</th>\n",
              "      <th>OWN_OCCUPIED</th>\n",
              "    </tr>\n",
              "  </thead>\n",
              "  <tbody>\n",
              "    <tr>\n",
              "      <th>0</th>\n",
              "      <td>104.0</td>\n",
              "      <td>LEXTON</td>\n",
              "      <td>2</td>\n",
              "      <td>Y</td>\n",
              "    </tr>\n",
              "    <tr>\n",
              "      <th>1</th>\n",
              "      <td>197.0</td>\n",
              "      <td>BERKELEY</td>\n",
              "      <td>3</td>\n",
              "      <td>N</td>\n",
              "    </tr>\n",
              "    <tr>\n",
              "      <th>2</th>\n",
              "      <td>125.0</td>\n",
              "      <td>WASHINTON</td>\n",
              "      <td>3</td>\n",
              "      <td>Y</td>\n",
              "    </tr>\n",
              "    <tr>\n",
              "      <th>3</th>\n",
              "      <td>201.0</td>\n",
              "      <td>TREMONT</td>\n",
              "      <td>3.5</td>\n",
              "      <td>N</td>\n",
              "    </tr>\n",
              "    <tr>\n",
              "      <th>4</th>\n",
              "      <td>203.0</td>\n",
              "      <td>TREMONT</td>\n",
              "      <td>3.5</td>\n",
              "      <td>NaN</td>\n",
              "    </tr>\n",
              "    <tr>\n",
              "      <th>5</th>\n",
              "      <td>205.0</td>\n",
              "      <td>TREMONT</td>\n",
              "      <td>3.5</td>\n",
              "      <td>Y</td>\n",
              "    </tr>\n",
              "    <tr>\n",
              "      <th>6</th>\n",
              "      <td>125.0</td>\n",
              "      <td>BLAZE</td>\n",
              "      <td>4</td>\n",
              "      <td>NaN</td>\n",
              "    </tr>\n",
              "    <tr>\n",
              "      <th>7</th>\n",
              "      <td>213.0</td>\n",
              "      <td>BLAZE</td>\n",
              "      <td>5</td>\n",
              "      <td>N</td>\n",
              "    </tr>\n",
              "    <tr>\n",
              "      <th>8</th>\n",
              "      <td>214.0</td>\n",
              "      <td>BLAZE</td>\n",
              "      <td>6</td>\n",
              "      <td>N</td>\n",
              "    </tr>\n",
              "  </tbody>\n",
              "</table>\n",
              "</div>"
            ],
            "text/plain": [
              "   ST_NUM    ST_NAME NUM_ROOMS OWN_OCCUPIED\n",
              "0   104.0     LEXTON         2            Y\n",
              "1   197.0   BERKELEY         3            N\n",
              "2   125.0  WASHINTON         3            Y\n",
              "3   201.0    TREMONT       3.5            N\n",
              "4   203.0    TREMONT       3.5          NaN\n",
              "5   205.0    TREMONT       3.5            Y\n",
              "6   125.0      BLAZE         4          NaN\n",
              "7   213.0      BLAZE         5            N\n",
              "8   214.0      BLAZE         6            N"
            ]
          },
          "metadata": {
            "tags": []
          },
          "execution_count": 38
        }
      ]
    },
    {
      "cell_type": "markdown",
      "metadata": {
        "id": "8kT5XvH7TCOY",
        "colab_type": "text"
      },
      "source": [
        "finding all values occurrence\n"
      ]
    },
    {
      "cell_type": "code",
      "metadata": {
        "id": "6b3PYOA6TC2k",
        "colab_type": "code",
        "colab": {
          "base_uri": "https://localhost:8080/",
          "height": 67
        },
        "outputId": "236e6d2f-610f-4da5-c961-ebebd3757b74"
      },
      "source": [
        "df['OWN_OCCUPIED'].value_counts()"
      ],
      "execution_count": 39,
      "outputs": [
        {
          "output_type": "execute_result",
          "data": {
            "text/plain": [
              "N    4\n",
              "Y    3\n",
              "Name: OWN_OCCUPIED, dtype: int64"
            ]
          },
          "metadata": {
            "tags": []
          },
          "execution_count": 39
        }
      ]
    },
    {
      "cell_type": "markdown",
      "metadata": {
        "id": "X52xIIsUTGDu",
        "colab_type": "text"
      },
      "source": [
        " Replacing all NaN in ST_NUM with some random value 125"
      ]
    },
    {
      "cell_type": "code",
      "metadata": {
        "id": "HM1h0PFfTGht",
        "colab_type": "code",
        "colab": {
          "base_uri": "https://localhost:8080/",
          "height": 185
        },
        "outputId": "07de1590-23eb-4761-903b-ab3484a3af50"
      },
      "source": [
        "df['ST_NUM'].fillna(125)"
      ],
      "execution_count": 40,
      "outputs": [
        {
          "output_type": "execute_result",
          "data": {
            "text/plain": [
              "0    104.0\n",
              "1    197.0\n",
              "2    125.0\n",
              "3    201.0\n",
              "4    203.0\n",
              "5    205.0\n",
              "6    125.0\n",
              "7    213.0\n",
              "8    214.0\n",
              "Name: ST_NUM, dtype: float64"
            ]
          },
          "metadata": {
            "tags": []
          },
          "execution_count": 40
        }
      ]
    },
    {
      "cell_type": "code",
      "metadata": {
        "id": "VADe5wigTJhQ",
        "colab_type": "code",
        "colab": {
          "base_uri": "https://localhost:8080/",
          "height": 314
        },
        "outputId": "205b8ffa-bee6-40a3-857d-ba9e466ccba9"
      },
      "source": [
        "df"
      ],
      "execution_count": 41,
      "outputs": [
        {
          "output_type": "execute_result",
          "data": {
            "text/html": [
              "<div>\n",
              "<style scoped>\n",
              "    .dataframe tbody tr th:only-of-type {\n",
              "        vertical-align: middle;\n",
              "    }\n",
              "\n",
              "    .dataframe tbody tr th {\n",
              "        vertical-align: top;\n",
              "    }\n",
              "\n",
              "    .dataframe thead th {\n",
              "        text-align: right;\n",
              "    }\n",
              "</style>\n",
              "<table border=\"1\" class=\"dataframe\">\n",
              "  <thead>\n",
              "    <tr style=\"text-align: right;\">\n",
              "      <th></th>\n",
              "      <th>ST_NUM</th>\n",
              "      <th>ST_NAME</th>\n",
              "      <th>NUM_ROOMS</th>\n",
              "      <th>OWN_OCCUPIED</th>\n",
              "    </tr>\n",
              "  </thead>\n",
              "  <tbody>\n",
              "    <tr>\n",
              "      <th>0</th>\n",
              "      <td>104.0</td>\n",
              "      <td>LEXTON</td>\n",
              "      <td>2</td>\n",
              "      <td>Y</td>\n",
              "    </tr>\n",
              "    <tr>\n",
              "      <th>1</th>\n",
              "      <td>197.0</td>\n",
              "      <td>BERKELEY</td>\n",
              "      <td>3</td>\n",
              "      <td>N</td>\n",
              "    </tr>\n",
              "    <tr>\n",
              "      <th>2</th>\n",
              "      <td>125.0</td>\n",
              "      <td>WASHINTON</td>\n",
              "      <td>3</td>\n",
              "      <td>Y</td>\n",
              "    </tr>\n",
              "    <tr>\n",
              "      <th>3</th>\n",
              "      <td>201.0</td>\n",
              "      <td>TREMONT</td>\n",
              "      <td>3.5</td>\n",
              "      <td>N</td>\n",
              "    </tr>\n",
              "    <tr>\n",
              "      <th>4</th>\n",
              "      <td>203.0</td>\n",
              "      <td>TREMONT</td>\n",
              "      <td>3.5</td>\n",
              "      <td>NaN</td>\n",
              "    </tr>\n",
              "    <tr>\n",
              "      <th>5</th>\n",
              "      <td>205.0</td>\n",
              "      <td>TREMONT</td>\n",
              "      <td>3.5</td>\n",
              "      <td>Y</td>\n",
              "    </tr>\n",
              "    <tr>\n",
              "      <th>6</th>\n",
              "      <td>125.0</td>\n",
              "      <td>BLAZE</td>\n",
              "      <td>4</td>\n",
              "      <td>NaN</td>\n",
              "    </tr>\n",
              "    <tr>\n",
              "      <th>7</th>\n",
              "      <td>213.0</td>\n",
              "      <td>BLAZE</td>\n",
              "      <td>5</td>\n",
              "      <td>N</td>\n",
              "    </tr>\n",
              "    <tr>\n",
              "      <th>8</th>\n",
              "      <td>214.0</td>\n",
              "      <td>BLAZE</td>\n",
              "      <td>6</td>\n",
              "      <td>N</td>\n",
              "    </tr>\n",
              "  </tbody>\n",
              "</table>\n",
              "</div>"
            ],
            "text/plain": [
              "   ST_NUM    ST_NAME NUM_ROOMS OWN_OCCUPIED\n",
              "0   104.0     LEXTON         2            Y\n",
              "1   197.0   BERKELEY         3            N\n",
              "2   125.0  WASHINTON         3            Y\n",
              "3   201.0    TREMONT       3.5            N\n",
              "4   203.0    TREMONT       3.5          NaN\n",
              "5   205.0    TREMONT       3.5            Y\n",
              "6   125.0      BLAZE         4          NaN\n",
              "7   213.0      BLAZE         5            N\n",
              "8   214.0      BLAZE         6            N"
            ]
          },
          "metadata": {
            "tags": []
          },
          "execution_count": 41
        }
      ]
    },
    {
      "cell_type": "markdown",
      "metadata": {
        "id": "9x1rGwUOTRd3",
        "colab_type": "text"
      },
      "source": [
        "Replacing all NaN in own_occupied with N is justified as its occurrene is more\n"
      ]
    },
    {
      "cell_type": "code",
      "metadata": {
        "id": "Mga7KIrBTS7z",
        "colab_type": "code",
        "colab": {
          "base_uri": "https://localhost:8080/",
          "height": 314
        },
        "outputId": "3cee17eb-277e-4c5c-d8b0-cd5f075c8bb9"
      },
      "source": [
        "df['OWN_OCCUPIED'].fillna('N',inplace=True)\n",
        "df"
      ],
      "execution_count": 43,
      "outputs": [
        {
          "output_type": "execute_result",
          "data": {
            "text/html": [
              "<div>\n",
              "<style scoped>\n",
              "    .dataframe tbody tr th:only-of-type {\n",
              "        vertical-align: middle;\n",
              "    }\n",
              "\n",
              "    .dataframe tbody tr th {\n",
              "        vertical-align: top;\n",
              "    }\n",
              "\n",
              "    .dataframe thead th {\n",
              "        text-align: right;\n",
              "    }\n",
              "</style>\n",
              "<table border=\"1\" class=\"dataframe\">\n",
              "  <thead>\n",
              "    <tr style=\"text-align: right;\">\n",
              "      <th></th>\n",
              "      <th>ST_NUM</th>\n",
              "      <th>ST_NAME</th>\n",
              "      <th>NUM_ROOMS</th>\n",
              "      <th>OWN_OCCUPIED</th>\n",
              "    </tr>\n",
              "  </thead>\n",
              "  <tbody>\n",
              "    <tr>\n",
              "      <th>0</th>\n",
              "      <td>104.0</td>\n",
              "      <td>LEXTON</td>\n",
              "      <td>2</td>\n",
              "      <td>Y</td>\n",
              "    </tr>\n",
              "    <tr>\n",
              "      <th>1</th>\n",
              "      <td>197.0</td>\n",
              "      <td>BERKELEY</td>\n",
              "      <td>3</td>\n",
              "      <td>N</td>\n",
              "    </tr>\n",
              "    <tr>\n",
              "      <th>2</th>\n",
              "      <td>125.0</td>\n",
              "      <td>WASHINTON</td>\n",
              "      <td>3</td>\n",
              "      <td>Y</td>\n",
              "    </tr>\n",
              "    <tr>\n",
              "      <th>3</th>\n",
              "      <td>201.0</td>\n",
              "      <td>TREMONT</td>\n",
              "      <td>3.5</td>\n",
              "      <td>N</td>\n",
              "    </tr>\n",
              "    <tr>\n",
              "      <th>4</th>\n",
              "      <td>203.0</td>\n",
              "      <td>TREMONT</td>\n",
              "      <td>3.5</td>\n",
              "      <td>N</td>\n",
              "    </tr>\n",
              "    <tr>\n",
              "      <th>5</th>\n",
              "      <td>205.0</td>\n",
              "      <td>TREMONT</td>\n",
              "      <td>3.5</td>\n",
              "      <td>Y</td>\n",
              "    </tr>\n",
              "    <tr>\n",
              "      <th>6</th>\n",
              "      <td>125.0</td>\n",
              "      <td>BLAZE</td>\n",
              "      <td>4</td>\n",
              "      <td>N</td>\n",
              "    </tr>\n",
              "    <tr>\n",
              "      <th>7</th>\n",
              "      <td>213.0</td>\n",
              "      <td>BLAZE</td>\n",
              "      <td>5</td>\n",
              "      <td>N</td>\n",
              "    </tr>\n",
              "    <tr>\n",
              "      <th>8</th>\n",
              "      <td>214.0</td>\n",
              "      <td>BLAZE</td>\n",
              "      <td>6</td>\n",
              "      <td>N</td>\n",
              "    </tr>\n",
              "  </tbody>\n",
              "</table>\n",
              "</div>"
            ],
            "text/plain": [
              "   ST_NUM    ST_NAME NUM_ROOMS OWN_OCCUPIED\n",
              "0   104.0     LEXTON         2            Y\n",
              "1   197.0   BERKELEY         3            N\n",
              "2   125.0  WASHINTON         3            Y\n",
              "3   201.0    TREMONT       3.5            N\n",
              "4   203.0    TREMONT       3.5            N\n",
              "5   205.0    TREMONT       3.5            Y\n",
              "6   125.0      BLAZE         4            N\n",
              "7   213.0      BLAZE         5            N\n",
              "8   214.0      BLAZE         6            N"
            ]
          },
          "metadata": {
            "tags": []
          },
          "execution_count": 43
        }
      ]
    },
    {
      "cell_type": "markdown",
      "metadata": {
        "id": "ZKAqDecDTXH_",
        "colab_type": "text"
      },
      "source": [
        "# we have got a cleaned data set now"
      ]
    }
  ]
}