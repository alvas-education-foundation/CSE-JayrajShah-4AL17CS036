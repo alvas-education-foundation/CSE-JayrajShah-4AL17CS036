{
  "nbformat": 4,
  "nbformat_minor": 0,
  "metadata": {
    "colab": {
      "name": "Day-2 Session-2 Example-Programs.ipynb",
      "provenance": [],
      "authorship_tag": "ABX9TyMJq0DZVRUxWo6Yeo06zkLX",
      "include_colab_link": true
    },
    "kernelspec": {
      "name": "python3",
      "display_name": "Python 3"
    }
  },
  "cells": [
    {
      "cell_type": "markdown",
      "metadata": {
        "id": "view-in-github",
        "colab_type": "text"
      },
      "source": [
        "<a href=\"https://colab.research.google.com/github/JayrajShah/DataAnalysis-MachineLearning-with-Python/blob/master/Day_2_Session_2_Example_Programs.ipynb\" target=\"_parent\"><img src=\"https://colab.research.google.com/assets/colab-badge.svg\" alt=\"Open In Colab\"/></a>"
      ]
    },
    {
      "cell_type": "markdown",
      "metadata": {
        "id": "9gtspRphA1kw",
        "colab_type": "text"
      },
      "source": [
        "Removes all elements of dictionary dic"
      ]
    },
    {
      "cell_type": "code",
      "metadata": {
        "id": "XX0UE7MIAuCv",
        "colab_type": "code",
        "colab": {
          "base_uri": "https://localhost:8080/",
          "height": 50
        },
        "outputId": "260026c2-c8e5-4451-b2b9-4cb04f9a7774"
      },
      "source": [
        "dict = {'Name': 'Zara', 'Age': 7};\n",
        "print(\"Start Len : %d\" %  len(dict))\n",
        "dict.clear()\n",
        "print(\"End Len : %d\" %  len(dict))"
      ],
      "execution_count": 1,
      "outputs": [
        {
          "output_type": "stream",
          "text": [
            "Start Len : 2\n",
            "End Len : 0\n"
          ],
          "name": "stdout"
        }
      ]
    },
    {
      "cell_type": "markdown",
      "metadata": {
        "id": "s632_A3sA9Cx",
        "colab_type": "text"
      },
      "source": [
        "Returns a list of dict's (key, value) tuple pairs"
      ]
    },
    {
      "cell_type": "code",
      "metadata": {
        "id": "eZYndwjOA-oF",
        "colab_type": "code",
        "colab": {
          "base_uri": "https://localhost:8080/",
          "height": 34
        },
        "outputId": "f8e83e69-4841-4e90-a8a0-7e566d319ed9"
      },
      "source": [
        "dict = {'Name': 'Zara', 'Age': 7}\n",
        "print (\"Value : %s\" %  dict.items())"
      ],
      "execution_count": 2,
      "outputs": [
        {
          "output_type": "stream",
          "text": [
            "Value : dict_items([('Name', 'Zara'), ('Age', 7)])\n"
          ],
          "name": "stdout"
        }
      ]
    },
    {
      "cell_type": "markdown",
      "metadata": {
        "id": "jqFp8uSzBCP-",
        "colab_type": "text"
      },
      "source": [
        "Returns a copy of dictionary dict"
      ]
    },
    {
      "cell_type": "code",
      "metadata": {
        "id": "PNjsE-R_BEJJ",
        "colab_type": "code",
        "colab": {
          "base_uri": "https://localhost:8080/",
          "height": 34
        },
        "outputId": "93229563-7653-4bba-fa20-8e31c3a54268"
      },
      "source": [
        "dict1 = {'Name': 'Zara', 'Age': 7};\n",
        "dict2 = dict1.copy()\n",
        "print (\"New Dictinary : %s\" %  str(dict2))"
      ],
      "execution_count": 3,
      "outputs": [
        {
          "output_type": "stream",
          "text": [
            "New Dictinary : {'Name': 'Zara', 'Age': 7}\n"
          ],
          "name": "stdout"
        }
      ]
    },
    {
      "cell_type": "markdown",
      "metadata": {
        "id": "x-JXRxuYBHYv",
        "colab_type": "text"
      },
      "source": [
        "Python Program to Generate a Dictionary that Contains Numbers (between 1 and n) in the Form (x,x*x)."
      ]
    },
    {
      "cell_type": "code",
      "metadata": {
        "id": "bYZEJmZHBJRR",
        "colab_type": "code",
        "colab": {
          "base_uri": "https://localhost:8080/",
          "height": 50
        },
        "outputId": "e3c79d8c-2fa6-46db-b8f5-e90c60a51018"
      },
      "source": [
        "n=int(input(\"Enter a number:\"))\n",
        "d={x:x*x for x in range(1,n+1)}\n",
        "print(d)\n"
      ],
      "execution_count": 4,
      "outputs": [
        {
          "output_type": "stream",
          "text": [
            "Enter a number:3\n",
            "{1: 1, 2: 4, 3: 9}\n"
          ],
          "name": "stdout"
        }
      ]
    },
    {
      "cell_type": "markdown",
      "metadata": {
        "id": "AqkgfFZOBMhH",
        "colab_type": "text"
      },
      "source": [
        "Python Program to Sum All the Items in a Dictionary"
      ]
    },
    {
      "cell_type": "code",
      "metadata": {
        "id": "6dh3cG9tBOkp",
        "colab_type": "code",
        "colab": {
          "base_uri": "https://localhost:8080/",
          "height": 50
        },
        "outputId": "12e208e1-1775-4429-b51c-114f36627e3d"
      },
      "source": [
        "d={'A':100,'B':540,'C':239}\n",
        "print(\"Total sum of values in the dictionary:\")\n",
        "print(sum(d.values()))"
      ],
      "execution_count": 5,
      "outputs": [
        {
          "output_type": "stream",
          "text": [
            "Total sum of values in the dictionary:\n",
            "879\n"
          ],
          "name": "stdout"
        }
      ]
    },
    {
      "cell_type": "markdown",
      "metadata": {
        "id": "zoildIU8BRfL",
        "colab_type": "text"
      },
      "source": [
        "Python Program to Remove the Given Key from a Dictionary"
      ]
    },
    {
      "cell_type": "code",
      "metadata": {
        "id": "urd_gF_2BTqf",
        "colab_type": "code",
        "colab": {
          "base_uri": "https://localhost:8080/",
          "height": 101
        },
        "outputId": "39bd8196-efe6-404d-9de9-68aeee5e742d"
      },
      "source": [
        "d = {'a':1,'b':2,'c':3,'d':4}\n",
        "print(\"Initial dictionary\")\n",
        "print(d)\n",
        "key=input(\"Enter the key to delete(a-d):\")\n",
        "if key in d: \n",
        "    del d[key]\n",
        "else:\n",
        "    print(\"Key not found!\")\n",
        "    exit(0)\n",
        "print(\"Updated dictionary\")\n",
        "print(d)"
      ],
      "execution_count": 6,
      "outputs": [
        {
          "output_type": "stream",
          "text": [
            "Initial dictionary\n",
            "{'a': 1, 'b': 2, 'c': 3, 'd': 4}\n",
            "Enter the key to delete(a-d):b\n",
            "Updated dictionary\n",
            "{'a': 1, 'c': 3, 'd': 4}\n"
          ],
          "name": "stdout"
        }
      ]
    },
    {
      "cell_type": "markdown",
      "metadata": {
        "id": "-4amdOjvBX49",
        "colab_type": "text"
      },
      "source": [
        "Python Program to add name and mark as key->value pair in a Dictionary and print it."
      ]
    },
    {
      "cell_type": "code",
      "metadata": {
        "id": "N5waAuqkBaMi",
        "colab_type": "code",
        "colab": {
          "base_uri": "https://localhost:8080/",
          "height": 185
        },
        "outputId": "12f842d0-777e-4c42-e8da-193b0d708db0"
      },
      "source": [
        "n=int(input(\"Enter no of records\"))\n",
        "d={}\n",
        "for i in range(1,n+1):\n",
        "    name= input(\"Enter name %d\"%(i))\n",
        "    mark=int(input(\"Enter mark %d\"%(i)))\n",
        "    d[name]=mark\n",
        "    print (d)\n"
      ],
      "execution_count": 7,
      "outputs": [
        {
          "output_type": "stream",
          "text": [
            "Enter no of records3\n",
            "Enter name 1Jay\n",
            "Enter mark 166\n",
            "{'Jay': 66}\n",
            "Enter name 2Raj\n",
            "Enter mark 244\n",
            "{'Jay': 66, 'Raj': 44}\n",
            "Enter name 3Jayraj\n",
            "Enter mark 388\n",
            "{'Jay': 66, 'Raj': 44, 'Jayraj': 88}\n"
          ],
          "name": "stdout"
        }
      ]
    },
    {
      "cell_type": "markdown",
      "metadata": {
        "id": "AuzqaEiCBi_9",
        "colab_type": "text"
      },
      "source": [
        "Keys and Values example"
      ]
    },
    {
      "cell_type": "code",
      "metadata": {
        "id": "V8hiS8LLBln6",
        "colab_type": "code",
        "colab": {
          "base_uri": "https://localhost:8080/",
          "height": 1000
        },
        "outputId": "6cb2dc1c-b0fc-46c3-9fad-71281747de69"
      },
      "source": [
        "d={}\n",
        "print(\" The dictionary elements are\")\n",
        "for i in range(1,21):\n",
        "    d[i]=i**2\n",
        "    print(d)\n",
        "    # To print key and values\n",
        "    print(\" Key==> Value are\")\n",
        "    for (k,v) in d.items():\t\n",
        "        print(k,\"==>\",v)\n",
        "  # To print key only\n",
        "    print (\"\\nTo print key only\")\n",
        "    for k in d.keys():\t\n",
        "        print(k, end=\" \")\n",
        "  #To print value only\n",
        "    print (\"\\nTo print values only\")\n",
        "    for v in d.values():\t\n",
        "        print(v, end=\" \")"
      ],
      "execution_count": 8,
      "outputs": [
        {
          "output_type": "stream",
          "text": [
            " The dictionary elements are\n",
            "{1: 1}\n",
            " Key==> Value are\n",
            "1 ==> 1\n",
            "\n",
            "To print key only\n",
            "1 \n",
            "To print values only\n",
            "1 {1: 1, 2: 4}\n",
            " Key==> Value are\n",
            "1 ==> 1\n",
            "2 ==> 4\n",
            "\n",
            "To print key only\n",
            "1 2 \n",
            "To print values only\n",
            "1 4 {1: 1, 2: 4, 3: 9}\n",
            " Key==> Value are\n",
            "1 ==> 1\n",
            "2 ==> 4\n",
            "3 ==> 9\n",
            "\n",
            "To print key only\n",
            "1 2 3 \n",
            "To print values only\n",
            "1 4 9 {1: 1, 2: 4, 3: 9, 4: 16}\n",
            " Key==> Value are\n",
            "1 ==> 1\n",
            "2 ==> 4\n",
            "3 ==> 9\n",
            "4 ==> 16\n",
            "\n",
            "To print key only\n",
            "1 2 3 4 \n",
            "To print values only\n",
            "1 4 9 16 {1: 1, 2: 4, 3: 9, 4: 16, 5: 25}\n",
            " Key==> Value are\n",
            "1 ==> 1\n",
            "2 ==> 4\n",
            "3 ==> 9\n",
            "4 ==> 16\n",
            "5 ==> 25\n",
            "\n",
            "To print key only\n",
            "1 2 3 4 5 \n",
            "To print values only\n",
            "1 4 9 16 25 {1: 1, 2: 4, 3: 9, 4: 16, 5: 25, 6: 36}\n",
            " Key==> Value are\n",
            "1 ==> 1\n",
            "2 ==> 4\n",
            "3 ==> 9\n",
            "4 ==> 16\n",
            "5 ==> 25\n",
            "6 ==> 36\n",
            "\n",
            "To print key only\n",
            "1 2 3 4 5 6 \n",
            "To print values only\n",
            "1 4 9 16 25 36 {1: 1, 2: 4, 3: 9, 4: 16, 5: 25, 6: 36, 7: 49}\n",
            " Key==> Value are\n",
            "1 ==> 1\n",
            "2 ==> 4\n",
            "3 ==> 9\n",
            "4 ==> 16\n",
            "5 ==> 25\n",
            "6 ==> 36\n",
            "7 ==> 49\n",
            "\n",
            "To print key only\n",
            "1 2 3 4 5 6 7 \n",
            "To print values only\n",
            "1 4 9 16 25 36 49 {1: 1, 2: 4, 3: 9, 4: 16, 5: 25, 6: 36, 7: 49, 8: 64}\n",
            " Key==> Value are\n",
            "1 ==> 1\n",
            "2 ==> 4\n",
            "3 ==> 9\n",
            "4 ==> 16\n",
            "5 ==> 25\n",
            "6 ==> 36\n",
            "7 ==> 49\n",
            "8 ==> 64\n",
            "\n",
            "To print key only\n",
            "1 2 3 4 5 6 7 8 \n",
            "To print values only\n",
            "1 4 9 16 25 36 49 64 {1: 1, 2: 4, 3: 9, 4: 16, 5: 25, 6: 36, 7: 49, 8: 64, 9: 81}\n",
            " Key==> Value are\n",
            "1 ==> 1\n",
            "2 ==> 4\n",
            "3 ==> 9\n",
            "4 ==> 16\n",
            "5 ==> 25\n",
            "6 ==> 36\n",
            "7 ==> 49\n",
            "8 ==> 64\n",
            "9 ==> 81\n",
            "\n",
            "To print key only\n",
            "1 2 3 4 5 6 7 8 9 \n",
            "To print values only\n",
            "1 4 9 16 25 36 49 64 81 {1: 1, 2: 4, 3: 9, 4: 16, 5: 25, 6: 36, 7: 49, 8: 64, 9: 81, 10: 100}\n",
            " Key==> Value are\n",
            "1 ==> 1\n",
            "2 ==> 4\n",
            "3 ==> 9\n",
            "4 ==> 16\n",
            "5 ==> 25\n",
            "6 ==> 36\n",
            "7 ==> 49\n",
            "8 ==> 64\n",
            "9 ==> 81\n",
            "10 ==> 100\n",
            "\n",
            "To print key only\n",
            "1 2 3 4 5 6 7 8 9 10 \n",
            "To print values only\n",
            "1 4 9 16 25 36 49 64 81 100 {1: 1, 2: 4, 3: 9, 4: 16, 5: 25, 6: 36, 7: 49, 8: 64, 9: 81, 10: 100, 11: 121}\n",
            " Key==> Value are\n",
            "1 ==> 1\n",
            "2 ==> 4\n",
            "3 ==> 9\n",
            "4 ==> 16\n",
            "5 ==> 25\n",
            "6 ==> 36\n",
            "7 ==> 49\n",
            "8 ==> 64\n",
            "9 ==> 81\n",
            "10 ==> 100\n",
            "11 ==> 121\n",
            "\n",
            "To print key only\n",
            "1 2 3 4 5 6 7 8 9 10 11 \n",
            "To print values only\n",
            "1 4 9 16 25 36 49 64 81 100 121 {1: 1, 2: 4, 3: 9, 4: 16, 5: 25, 6: 36, 7: 49, 8: 64, 9: 81, 10: 100, 11: 121, 12: 144}\n",
            " Key==> Value are\n",
            "1 ==> 1\n",
            "2 ==> 4\n",
            "3 ==> 9\n",
            "4 ==> 16\n",
            "5 ==> 25\n",
            "6 ==> 36\n",
            "7 ==> 49\n",
            "8 ==> 64\n",
            "9 ==> 81\n",
            "10 ==> 100\n",
            "11 ==> 121\n",
            "12 ==> 144\n",
            "\n",
            "To print key only\n",
            "1 2 3 4 5 6 7 8 9 10 11 12 \n",
            "To print values only\n",
            "1 4 9 16 25 36 49 64 81 100 121 144 {1: 1, 2: 4, 3: 9, 4: 16, 5: 25, 6: 36, 7: 49, 8: 64, 9: 81, 10: 100, 11: 121, 12: 144, 13: 169}\n",
            " Key==> Value are\n",
            "1 ==> 1\n",
            "2 ==> 4\n",
            "3 ==> 9\n",
            "4 ==> 16\n",
            "5 ==> 25\n",
            "6 ==> 36\n",
            "7 ==> 49\n",
            "8 ==> 64\n",
            "9 ==> 81\n",
            "10 ==> 100\n",
            "11 ==> 121\n",
            "12 ==> 144\n",
            "13 ==> 169\n",
            "\n",
            "To print key only\n",
            "1 2 3 4 5 6 7 8 9 10 11 12 13 \n",
            "To print values only\n",
            "1 4 9 16 25 36 49 64 81 100 121 144 169 {1: 1, 2: 4, 3: 9, 4: 16, 5: 25, 6: 36, 7: 49, 8: 64, 9: 81, 10: 100, 11: 121, 12: 144, 13: 169, 14: 196}\n",
            " Key==> Value are\n",
            "1 ==> 1\n",
            "2 ==> 4\n",
            "3 ==> 9\n",
            "4 ==> 16\n",
            "5 ==> 25\n",
            "6 ==> 36\n",
            "7 ==> 49\n",
            "8 ==> 64\n",
            "9 ==> 81\n",
            "10 ==> 100\n",
            "11 ==> 121\n",
            "12 ==> 144\n",
            "13 ==> 169\n",
            "14 ==> 196\n",
            "\n",
            "To print key only\n",
            "1 2 3 4 5 6 7 8 9 10 11 12 13 14 \n",
            "To print values only\n",
            "1 4 9 16 25 36 49 64 81 100 121 144 169 196 {1: 1, 2: 4, 3: 9, 4: 16, 5: 25, 6: 36, 7: 49, 8: 64, 9: 81, 10: 100, 11: 121, 12: 144, 13: 169, 14: 196, 15: 225}\n",
            " Key==> Value are\n",
            "1 ==> 1\n",
            "2 ==> 4\n",
            "3 ==> 9\n",
            "4 ==> 16\n",
            "5 ==> 25\n",
            "6 ==> 36\n",
            "7 ==> 49\n",
            "8 ==> 64\n",
            "9 ==> 81\n",
            "10 ==> 100\n",
            "11 ==> 121\n",
            "12 ==> 144\n",
            "13 ==> 169\n",
            "14 ==> 196\n",
            "15 ==> 225\n",
            "\n",
            "To print key only\n",
            "1 2 3 4 5 6 7 8 9 10 11 12 13 14 15 \n",
            "To print values only\n",
            "1 4 9 16 25 36 49 64 81 100 121 144 169 196 225 {1: 1, 2: 4, 3: 9, 4: 16, 5: 25, 6: 36, 7: 49, 8: 64, 9: 81, 10: 100, 11: 121, 12: 144, 13: 169, 14: 196, 15: 225, 16: 256}\n",
            " Key==> Value are\n",
            "1 ==> 1\n",
            "2 ==> 4\n",
            "3 ==> 9\n",
            "4 ==> 16\n",
            "5 ==> 25\n",
            "6 ==> 36\n",
            "7 ==> 49\n",
            "8 ==> 64\n",
            "9 ==> 81\n",
            "10 ==> 100\n",
            "11 ==> 121\n",
            "12 ==> 144\n",
            "13 ==> 169\n",
            "14 ==> 196\n",
            "15 ==> 225\n",
            "16 ==> 256\n",
            "\n",
            "To print key only\n",
            "1 2 3 4 5 6 7 8 9 10 11 12 13 14 15 16 \n",
            "To print values only\n",
            "1 4 9 16 25 36 49 64 81 100 121 144 169 196 225 256 {1: 1, 2: 4, 3: 9, 4: 16, 5: 25, 6: 36, 7: 49, 8: 64, 9: 81, 10: 100, 11: 121, 12: 144, 13: 169, 14: 196, 15: 225, 16: 256, 17: 289}\n",
            " Key==> Value are\n",
            "1 ==> 1\n",
            "2 ==> 4\n",
            "3 ==> 9\n",
            "4 ==> 16\n",
            "5 ==> 25\n",
            "6 ==> 36\n",
            "7 ==> 49\n",
            "8 ==> 64\n",
            "9 ==> 81\n",
            "10 ==> 100\n",
            "11 ==> 121\n",
            "12 ==> 144\n",
            "13 ==> 169\n",
            "14 ==> 196\n",
            "15 ==> 225\n",
            "16 ==> 256\n",
            "17 ==> 289\n",
            "\n",
            "To print key only\n",
            "1 2 3 4 5 6 7 8 9 10 11 12 13 14 15 16 17 \n",
            "To print values only\n",
            "1 4 9 16 25 36 49 64 81 100 121 144 169 196 225 256 289 {1: 1, 2: 4, 3: 9, 4: 16, 5: 25, 6: 36, 7: 49, 8: 64, 9: 81, 10: 100, 11: 121, 12: 144, 13: 169, 14: 196, 15: 225, 16: 256, 17: 289, 18: 324}\n",
            " Key==> Value are\n",
            "1 ==> 1\n",
            "2 ==> 4\n",
            "3 ==> 9\n",
            "4 ==> 16\n",
            "5 ==> 25\n",
            "6 ==> 36\n",
            "7 ==> 49\n",
            "8 ==> 64\n",
            "9 ==> 81\n",
            "10 ==> 100\n",
            "11 ==> 121\n",
            "12 ==> 144\n",
            "13 ==> 169\n",
            "14 ==> 196\n",
            "15 ==> 225\n",
            "16 ==> 256\n",
            "17 ==> 289\n",
            "18 ==> 324\n",
            "\n",
            "To print key only\n",
            "1 2 3 4 5 6 7 8 9 10 11 12 13 14 15 16 17 18 \n",
            "To print values only\n",
            "1 4 9 16 25 36 49 64 81 100 121 144 169 196 225 256 289 324 {1: 1, 2: 4, 3: 9, 4: 16, 5: 25, 6: 36, 7: 49, 8: 64, 9: 81, 10: 100, 11: 121, 12: 144, 13: 169, 14: 196, 15: 225, 16: 256, 17: 289, 18: 324, 19: 361}\n",
            " Key==> Value are\n",
            "1 ==> 1\n",
            "2 ==> 4\n",
            "3 ==> 9\n",
            "4 ==> 16\n",
            "5 ==> 25\n",
            "6 ==> 36\n",
            "7 ==> 49\n",
            "8 ==> 64\n",
            "9 ==> 81\n",
            "10 ==> 100\n",
            "11 ==> 121\n",
            "12 ==> 144\n",
            "13 ==> 169\n",
            "14 ==> 196\n",
            "15 ==> 225\n",
            "16 ==> 256\n",
            "17 ==> 289\n",
            "18 ==> 324\n",
            "19 ==> 361\n",
            "\n",
            "To print key only\n",
            "1 2 3 4 5 6 7 8 9 10 11 12 13 14 15 16 17 18 19 \n",
            "To print values only\n",
            "1 4 9 16 25 36 49 64 81 100 121 144 169 196 225 256 289 324 361 {1: 1, 2: 4, 3: 9, 4: 16, 5: 25, 6: 36, 7: 49, 8: 64, 9: 81, 10: 100, 11: 121, 12: 144, 13: 169, 14: 196, 15: 225, 16: 256, 17: 289, 18: 324, 19: 361, 20: 400}\n",
            " Key==> Value are\n",
            "1 ==> 1\n",
            "2 ==> 4\n",
            "3 ==> 9\n",
            "4 ==> 16\n",
            "5 ==> 25\n",
            "6 ==> 36\n",
            "7 ==> 49\n",
            "8 ==> 64\n",
            "9 ==> 81\n",
            "10 ==> 100\n",
            "11 ==> 121\n",
            "12 ==> 144\n",
            "13 ==> 169\n",
            "14 ==> 196\n",
            "15 ==> 225\n",
            "16 ==> 256\n",
            "17 ==> 289\n",
            "18 ==> 324\n",
            "19 ==> 361\n",
            "20 ==> 400\n",
            "\n",
            "To print key only\n",
            "1 2 3 4 5 6 7 8 9 10 11 12 13 14 15 16 17 18 19 20 \n",
            "To print values only\n",
            "1 4 9 16 25 36 49 64 81 100 121 144 169 196 225 256 289 324 361 400 "
          ],
          "name": "stdout"
        }
      ]
    },
    {
      "cell_type": "markdown",
      "metadata": {
        "id": "V1xf6DtzBnaR",
        "colab_type": "text"
      },
      "source": [
        "Python program to convert 2 digit number into words"
      ]
    },
    {
      "cell_type": "code",
      "metadata": {
        "id": "5k5tQMJ2Bptv",
        "colab_type": "code",
        "colab": {
          "base_uri": "https://localhost:8080/",
          "height": 50
        },
        "outputId": "75e7d603-6541-4aa8-efeb-4f07c0a8303b"
      },
      "source": [
        "\n",
        "d={0:'',1:'one',2:'two',3:'three',4:'four',5:'five',6:'six',7:'seven',8:'eight',9:'nine',\\\n",
        "   10:'ten',11:'eleven',12:'twelve',13:'thirteen',14:'fourteen',15:'fifteen',16:'sixteen',\\\n",
        "   17:'seventeen',18:'eightteen',19:'nineteen',20:'twenty',30:'thirty',40:'fourty',50:'fifty',\\\n",
        "   60:'sixty',70:'seventy',80:'eighty',90:'ninty'}\n",
        "\n",
        "num=int(input(\"Enter the integer between 1 to 99:\"))\n",
        "if (num<=20):\n",
        "      print(d[num])\n",
        "if(num>20 and num<100):\n",
        "        if num%10==0:       \n",
        "            print(d[num])\n",
        "        else:\n",
        "            print(d[num//10*10]+\" \"+d[num%10])"
      ],
      "execution_count": 9,
      "outputs": [
        {
          "output_type": "stream",
          "text": [
            "Enter the integer between 1 to 99:44\n",
            "fourty four\n"
          ],
          "name": "stdout"
        }
      ]
    },
    {
      "cell_type": "markdown",
      "metadata": {
        "id": "StKNGjzmBs8w",
        "colab_type": "text"
      },
      "source": [
        "How to sort a dictionary by values in Python"
      ]
    },
    {
      "cell_type": "code",
      "metadata": {
        "id": "XUA_dwNGBvGu",
        "colab_type": "code",
        "colab": {
          "base_uri": "https://localhost:8080/",
          "height": 50
        },
        "outputId": "c118631e-6bec-47ad-bad8-9e7cdb6a965d"
      },
      "source": [
        "d = {\"Pierre\": 42, \"Anne\": 33, \"Zoe\": 24}\n",
        "#Use the sorted function and operator module\n",
        "import operator\n",
        "sorted_d = sorted(d.items(), key=operator.itemgetter(1))\n",
        "print(sorted_d)\n",
        "sorted_a= sorted(d.items(), key=operator.itemgetter(1),reverse=True)\n",
        "print(sorted_a)"
      ],
      "execution_count": 10,
      "outputs": [
        {
          "output_type": "stream",
          "text": [
            "[('Zoe', 24), ('Anne', 33), ('Pierre', 42)]\n",
            "[('Pierre', 42), ('Anne', 33), ('Zoe', 24)]\n"
          ],
          "name": "stdout"
        }
      ]
    },
    {
      "cell_type": "markdown",
      "metadata": {
        "id": "i1WH15I4Bw_M",
        "colab_type": "text"
      },
      "source": [
        "Python program to convert a 3 digit number into words"
      ]
    },
    {
      "cell_type": "code",
      "metadata": {
        "id": "3BFK3YiFB2Qu",
        "colab_type": "code",
        "colab": {
          "base_uri": "https://localhost:8080/",
          "height": 67
        },
        "outputId": "4d885354-6fc7-4b5b-cce3-00a74ae144a6"
      },
      "source": [
        "def convert_to_words(num):  \n",
        "    l = len(num);    \n",
        "    if (l == 0): \n",
        "        print(\"empty string\"); \n",
        "        return; \n",
        "  \n",
        "    if (l > 4): \n",
        "        print(\"Length more than 4 is not supported\"); \n",
        "        return;   \n",
        "    single_digits = [\"zero\", \"one\", \"two\", \"three\",  \n",
        "                     \"four\", \"five\", \"six\", \"seven\",  \n",
        "                     \"eight\", \"nine\"];  \n",
        "    two_digits = [\"\", \"ten\", \"eleven\", \"twelve\",  \n",
        "                  \"thirteen\", \"fourteen\", \"fifteen\",  \n",
        "                  \"sixteen\", \"seventeen\", \"eighteen\", \n",
        "                  \"nineteen\"];  \n",
        "    tens_multiple = [\"\", \"\", \"twenty\", \"thirty\", \"forty\", \n",
        "                     \"fifty\", \"sixty\", \"seventy\", \"eighty\",  \n",
        "                     \"ninety\"]; \n",
        "    tens_power = [\"hundred\", \"thousand\"];   \n",
        "    print(num, \":\", end = \" \");   \n",
        "    if (l == 1):  \n",
        "        print(single_digits[ord(num[0]) - '0']); \n",
        "        return;  \n",
        "    x = 0; \n",
        "    while (x < len(num)):    \n",
        "        if (l >= 3): \n",
        "            if (ord(num[x]) - 48 != 0): \n",
        "                print(single_digits[ord(num[x]) - 48],  \n",
        "                                           end = \" \"); \n",
        "                print(tens_power[l - 3], end = \" \");  \n",
        "                  \n",
        "            l -= 1; \n",
        "        else:   \n",
        "            if (ord(num[x]) - 48 == 1):  \n",
        "                sum = (ord(num[x]) - 48 + \n",
        "                       ord(num[x]) - 48); \n",
        "                print(two_digits[sum]); \n",
        "                return;   \n",
        "            elif (ord(num[x]) - 48 == 2 and \n",
        "                  ord(num[x + 1]) - 48 == 0): \n",
        "                print(\"twenty\"); \n",
        "                return;  \n",
        "            else: \n",
        "                i = ord(num[x]) - 48; \n",
        "                if(i > 0): \n",
        "                    print(tens_multiple[i], end = \" \"); \n",
        "                else: \n",
        "                    print(\"\", end = \"\"); \n",
        "                x += 1; \n",
        "                if(ord(num[x]) - 48 != 0): \n",
        "                    print(single_digits[ord(num[x]) - 48]); \n",
        "        x += 1;  \n",
        "convert_to_words(\"923\"); \n",
        "convert_to_words(\"523\"); \n",
        "convert_to_words(\"898\"); "
      ],
      "execution_count": 11,
      "outputs": [
        {
          "output_type": "stream",
          "text": [
            "923 : nine hundred twenty three\n",
            "523 : five hundred twenty three\n",
            "898 : eight hundred ninety eight\n"
          ],
          "name": "stdout"
        }
      ]
    },
    {
      "cell_type": "markdown",
      "metadata": {
        "id": "rybohd7xB4C9",
        "colab_type": "text"
      },
      "source": [
        "Python Program to count the number of lines in a text file."
      ]
    },
    {
      "cell_type": "code",
      "metadata": {
        "id": "3BgGWobPB7W9",
        "colab_type": "code",
        "colab": {
          "base_uri": "https://localhost:8080/",
          "height": 50
        },
        "outputId": "7d9b21f6-6309-4dfe-e423-530c9a42a3b9"
      },
      "source": [
        "fname = input(\"Enter filename\")\n",
        "count = 0\n",
        "with open(fname, 'r') as f:\n",
        "    for line in f:\n",
        "        count += 1\n",
        "print(\"Total number of lines is:\", count)"
      ],
      "execution_count": 12,
      "outputs": [
        {
          "output_type": "stream",
          "text": [
            "Enter filename/content/test.txt\n",
            "Total number of lines is: 149\n"
          ],
          "name": "stdout"
        }
      ]
    },
    {
      "cell_type": "markdown",
      "metadata": {
        "id": "nwQCl5TpCWfz",
        "colab_type": "text"
      },
      "source": [
        "Python Program to count the number of words in a text file."
      ]
    },
    {
      "cell_type": "code",
      "metadata": {
        "id": "atpWG5s5CaIX",
        "colab_type": "code",
        "colab": {
          "base_uri": "https://localhost:8080/",
          "height": 67
        },
        "outputId": "9db108f3-e8fc-4299-ba91-68f8524003b7"
      },
      "source": [
        "fname = input(\"Enter file name: \")\n",
        "num_words = 0\n",
        "with open(fname, 'r') as f:\n",
        "    for line in f:\n",
        "        words = line.split()\n",
        "        num_words += len(words)\n",
        "print(\"Number of words:\")\n",
        "print(num_words)"
      ],
      "execution_count": 14,
      "outputs": [
        {
          "output_type": "stream",
          "text": [
            "Enter file name: /content/test.txt\n",
            "Number of words:\n",
            "1543\n"
          ],
          "name": "stdout"
        }
      ]
    },
    {
      "cell_type": "markdown",
      "metadata": {
        "id": "zLwhGWWdClhc",
        "colab_type": "text"
      },
      "source": [
        "Python Program to count the occurrences of a word in a text file."
      ]
    },
    {
      "cell_type": "code",
      "metadata": {
        "id": "RoT18s-tCmFD",
        "colab_type": "code",
        "colab": {
          "base_uri": "https://localhost:8080/",
          "height": 84
        },
        "outputId": "c817f1a7-a04e-4bf0-c391-86b9b836db80"
      },
      "source": [
        "fname = input(\"Enter file name: \")\n",
        "word=input(\"Enter word to be searched:\")\n",
        "k = 0\n",
        "\n",
        "with open(fname, 'r') as f:\n",
        "    for line in f:\n",
        "        words = line.split()\n",
        "        for i in words:\n",
        "            if(i==word):\n",
        "                k=k+1\n",
        "print(\"Occurrences of the word:\")\n",
        "print(k)\n"
      ],
      "execution_count": 15,
      "outputs": [
        {
          "output_type": "stream",
          "text": [
            "Enter file name: /content/test.txt\n",
            "Enter word to be searched:rap\n",
            "Occurrences of the word:\n",
            "7\n"
          ],
          "name": "stdout"
        }
      ]
    },
    {
      "cell_type": "markdown",
      "metadata": {
        "id": "af9H_Ot6CzcK",
        "colab_type": "text"
      },
      "source": [
        "Python Program to copy the contents of one file into another."
      ]
    },
    {
      "cell_type": "code",
      "metadata": {
        "id": "685uVyY_Cz_i",
        "colab_type": "code",
        "colab": {}
      },
      "source": [
        "\n",
        "with open(\"/content/test.txt\") as f:\n",
        "    with open(\"Hello.txt\", \"w\") as f1:\n",
        "        for line in f:\n",
        "            f1.write(line)\n"
      ],
      "execution_count": 0,
      "outputs": []
    },
    {
      "cell_type": "markdown",
      "metadata": {
        "id": "pQkC7csNDIHd",
        "colab_type": "text"
      },
      "source": [
        "Python Program to read the contents of the file in reverse order."
      ]
    },
    {
      "cell_type": "code",
      "metadata": {
        "id": "20p968y7DJ9H",
        "colab_type": "code",
        "colab": {
          "base_uri": "https://localhost:8080/",
          "height": 1000
        },
        "outputId": "66fdea8d-4025-453b-88b5-b3227f67b525"
      },
      "source": [
        "filename=input(\"Enter file name: \")\n",
        "    \n",
        "with open (filename,'r') as f:\n",
        "    for line in f:\n",
        "        l=line.split()\n",
        "        l.reverse() \n",
        "        st= \" \".join(l)\n",
        "        print (st)\n"
      ],
      "execution_count": 19,
      "outputs": [
        {
          "output_type": "stream",
          "text": [
            "Enter file name: /content/Hello.txt\n",
            "feelings your hurt to not and you on easy go gonna was I Look,\n",
            "chance one this get to going only I'm But\n",
            "on) you're Shady, Slim minutes, (Six it feel can I wrong, Something's\n",
            "what know don't I but happen, to about something's like got, I've feeling a Just\n",
            "trouble, big trouble, in we're means, it think I what means, that If\n",
            "chances any taking not I'm say, you as bananas as is he if And\n",
            "ordered doctor the what just were You\n",
            "God Rap God, Rap a like feel to beginning I'm\n",
            "nod back nod, back the to front the from people my All\n",
            "box? slap box, slap to enough long are arms their thinks who Now\n",
            "Rapbot me call so robot, a like rap I said They\n",
            "genes my in be must computer a like rap to me for But\n",
            "pocket back my in laptop a got I\n",
            "it half-cock I when off go pen'll My\n",
            "profit rap that from knot fat a Got\n",
            "it off killing a and living a Made\n",
            "office in still was Clinton Bill since Ever\n",
            "nut-sack his on feeling Lewinsky Monica With\n",
            "honest as still MC an I'm\n",
            "with) all 'em (Kill killaholic syllables, hell all as indecent and rude as But\n",
            "hop hip hibbedy gibbedy, slickety, This\n",
            "brat rappidy this with match pissing a into get wanna really don't You\n",
            "yackidy-yac yep, crap, rap backpack Ac, the of back the in Mac a Packing\n",
            "practicing I'm while stunts acrobat lyrical these attempt I time same exact the at And\n",
            "table motherfuckin' a break to able be still I'll That\n",
            "half in it crack and faggots of couple a of back the Over\n",
            "fact the after Aftermath to signed was I ironic was it realized Only\n",
            "attack of wrath my feel F-bombs, drop is do I All blow? not I could How\n",
            "Maxipad a here's period, time rough a having are Rappers\n",
            "bad disastrously actually It's\n",
            "as masterpiece this constructing masterfully I'm while wack the For\n",
            "God Rap God, Rap a like feel to beginning I'm\n",
            "nod back nod, back the to front the from people my All\n",
            "box? slap box, slap to enough long are arms their thinks who Now\n",
            "hard that hard, that ain't shit this maintaining you show me Let\n",
            "got have I like immortality rap to secret the and key the want Everybody\n",
            "exuberance youthful and rage simply blueprint's the truthful be to Well,\n",
            "nuisance a for root to loves Everybody\n",
            "since moon the for shoot but nothing did asteroid, an like earth the Hit\n",
            "music this with school to taken get MC's\n",
            "rhyme the bus to vehicle a as it use I 'Cause\n",
            "students of full school new a lead I Now\n",
            "N- 2Pac Shabazz, Lakim Rakim, of product a I'm Me?\n",
            "Slim got they you, thank Eazy, Yella, Ren, Doc, hey, Cube, -W.A,\n",
            "position a in be and up blow up, grow day one to enough Inspired\n",
            "n' Rock motherfuckin' the into them induct and DMC Run meet To\n",
            "Fame of Hall Roll\n",
            "flames of ball a in burst and church the in walk I though Even\n",
            "fame of alcohol the is in inducted be I Fame of Hall Only\n",
            "shame of wall the On\n",
            "flames of flock a walk I 'til game a all it's think fags You\n",
            "thinking? you are fuck the in what me tell planking, of Off\n",
            "boy looking gay Little\n",
            "boy looking face straight a with it say barely can I gay So\n",
            "occur mass a witnessing You\n",
            "boy looking place take gathering church a watching you Like\n",
            "boy looking say they all that's gay, boy's that vey, Oy\n",
            "back the on pat up, thumbs a get You\n",
            "boy looking everyday label your from go\" to \"way a And\n",
            "boy? looking say you what boy, looking Hey,\n",
            "boy looking Dre from yeah\" \"hell a got I\n",
            "have I everything for work I'mma\n",
            "boy looking face my outta get shit, for nobody ask Never\n",
            "capable be gonna never you're boy Basically\n",
            "boy looking pace same the with up keep To\n",
            "God Rap God, Rap a like feel to beginning I'm 'Cause\n",
            "nod back nod, back the to front the from people my All\n",
            "Nascar Nascar, me call track, the around racing I'm way The\n",
            "God Trash White the park, trailer the of Earnhardt Dale\n",
            "Asgard Asgard, no Krypton, planet's this Zod General before Kneel\n",
            "omnipotent I'm rodent, you Odin, be I'll and Thor be you So\n",
            "totin' I'm bombs these with immediately reloading I'm then off Let\n",
            "woken be not should I And\n",
            "floating zombie a head, talking a just I'm but dead, walking the I'm\n",
            "throating deep mom your got I But\n",
            "poodle common, in nothing have we noodle, Ramen my out I'm\n",
            "pupil homage, pay and arm the in yourself pinch doberman, a I'm\n",
            "brutal honesty's my me, It's\n",
            "though do I what utilize don't I if futile honestly it's But\n",
            "while a in once least at good For\n",
            "doodle and scribble I scratch chicken this in somewhere sure make wanna I So\n",
            "times tough through people some get help and try to maybe to rhymes Enough\n",
            "unsigned you even 'cause case in just punchlines few a keep gotta I But\n",
            "lunchtime it's like me at looking hungry are Rappers\n",
            "I once where time a was there know I\n",
            "grind Monch Pharoahe my on I'm like rap still I but underground, the of king Was\n",
            "combine you when sometimes but rhymes, crunch I So\n",
            "mine of color skin the with Appeal\n",
            "to trying come they here and big too get You\n",
            "LP Mathers the from Back\" \"I'm on said I line one that like you Censor\n",
            "Columbine from kids seven take \"I'll say to tried I when One\n",
            "nine\" a and revolver a AK-47, an add line, a in all 'em Put\n",
            "I'm but was, I as big as ain't I that now it with away get I if See\n",
            "portal the through coming immortal an into Morphin'\n",
            "though 2004 from warp time a in stuck You're\n",
            "for rhyme you that fuck the what know don't I And\n",
            "cornrows fucking with Rapunzel as pointless You're\n",
            "normal being fuck normal, write You\n",
            "future the from Raygun new a bought just I And\n",
            "mad J Ray made Fabolous when like ya shoot and come to Just\n",
            "pad Maywhether's at fag a like looked he said Fab 'Cause\n",
            "piano played they while man a to Singin'\n",
            "channel cable the on special 24/7 a was that man, oh Man,\n",
            "day next very the station radio the to straight went J Ray So\n",
            "you\" kill I'mma Fab, \"Hey,\n",
            "Fad) (JJ speed, supersonic at you at coming Lyrics\n",
            "human a I'm assuming you lamaa duma lamaa sama Uh,\n",
            "superhuman I'm you to through it get to do gotta I What\n",
            "rubber of made I'm and Innovative\n",
            "you to glue it'll and me of off ricocheting is say you anything that So\n",
            "demonstrating ever than more devastating, I'm\n",
            "levitating it's like feeling a audience motherfuckin' a give to How\n",
            "waiting forever are haters the that know I and fading, Never\n",
            "celebrating be they'd off, fell I say can they that day the For\n",
            "motivated 'em get to way the know I 'Cause\n",
            "music elevator make you music, elevating make I\n",
            "mainstream too he's Oh,\n",
            "it confuse they jealous, get they when do they what that's Well,\n",
            "it fuse to way hella a found I 'cause pop, it's hop, hip not It's\n",
            "Doc with rap shock rock, With\n",
            "it lose 'em make and Yourself Lose on Throw\n",
            "that like songs make to how know don't I\n",
            "use to words what know don't I\n",
            "you to occurs it when know me Let\n",
            "you as diverse verses these of one any ripping I'm While\n",
            "you hurtin' inadvertently I'm curtains, It's\n",
            "to murder gotta I verses many How\n",
            "uh! too virgins sacrifice can you songs your nice, as half were you if that Prove\n",
            "junky pill flunkie, School\n",
            "me brung skills the accolades the at look But\n",
            "hungry still but myself, of Full\n",
            "to mind my put I what do me make I 'cause myself bully I\n",
            "tongues in speak I when ill you, above leagues million a I'm And\n",
            "you fuck cheek, in tongue still it's But\n",
            "seat front the in asleep I'm wheel, fucking the take Satan so drunk I'm\n",
            "funky but chunky, still Boys, the and D Heavy Bumping\n",
            "struggling and tugging feel can I something there's head my in But\n",
            "me from want they what here's and, devils with fight Angels\n",
            "hate women the of some eliminate to me asking They\n",
            "have I hatred bitter the consideration into take you if But\n",
            "situation the to sympathetic more and patient little a be may you Then\n",
            "discrimination the understand And\n",
            "then lemonade make lemons, you handing life's it, fuck But\n",
            "then? cake a them bake to supposed I am fuck the how women the batter can't I if But\n",
            "Satan for it mistake Don't\n",
            "overseas be to need I think you if mistake fatal a It's\n",
            "broad a trip to vacation a take And\n",
            "retard a be don't and face her on fall her make And\n",
            "God? a be can you when king a be why not, Think king? a Be\n"
          ],
          "name": "stdout"
        }
      ]
    }
  ]
}