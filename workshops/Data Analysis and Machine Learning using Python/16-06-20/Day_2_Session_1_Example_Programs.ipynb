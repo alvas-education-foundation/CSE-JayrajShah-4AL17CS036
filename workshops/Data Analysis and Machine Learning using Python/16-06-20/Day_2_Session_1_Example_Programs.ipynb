{
  "nbformat": 4,
  "nbformat_minor": 0,
  "metadata": {
    "colab": {
      "name": "Day-2 Session-1 Example-Programs.ipynb",
      "provenance": [],
      "collapsed_sections": [],
      "authorship_tag": "ABX9TyNSMCTTcWZQsT82VpnQnA38",
      "include_colab_link": true
    },
    "kernelspec": {
      "name": "python3",
      "display_name": "Python 3"
    }
  },
  "cells": [
    {
      "cell_type": "markdown",
      "metadata": {
        "id": "view-in-github",
        "colab_type": "text"
      },
      "source": [
        "<a href=\"https://colab.research.google.com/github/JayrajShah/DataAnalysis-MachineLearning-with-Python/blob/master/Day_2_Session_1_Example_Programs.ipynb\" target=\"_parent\"><img src=\"https://colab.research.google.com/assets/colab-badge.svg\" alt=\"Open In Colab\"/></a>"
      ]
    },
    {
      "cell_type": "markdown",
      "metadata": {
        "id": "PubBuCXatOsE",
        "colab_type": "text"
      },
      "source": [
        "Program to find the largest number in a list."
      ]
    },
    {
      "cell_type": "code",
      "metadata": {
        "id": "6habwXYMtQne",
        "colab_type": "code",
        "colab": {
          "base_uri": "https://localhost:8080/",
          "height": 134
        },
        "outputId": "7c7876c7-1fca-4bae-88f8-800ec4e9e6c4"
      },
      "source": [
        "a=[]\n",
        "n=int(input(\"Enter number of elements:\"))\n",
        "for i in range(1,n+1):\n",
        "    b=int(input(\"Enter element:\"))\n",
        "    a.append(b)\n",
        "a.sort()\n",
        "print(\"Largest element is:\",a[n-1])\n"
      ],
      "execution_count": 1,
      "outputs": [
        {
          "output_type": "stream",
          "text": [
            "Enter number of elements:5\n",
            "Enter element:1\n",
            "Enter element:2\n",
            "Enter element:3\n",
            "Enter element:7\n",
            "Enter element:8\n",
            "Largest element is: 8\n"
          ],
          "name": "stdout"
        }
      ]
    },
    {
      "cell_type": "markdown",
      "metadata": {
        "id": "rYALVlbKtny1",
        "colab_type": "text"
      },
      "source": [
        "More Pythonic program to find the largest number in a list."
      ]
    },
    {
      "cell_type": "code",
      "metadata": {
        "id": "DtjLTPvatwbf",
        "colab_type": "code",
        "colab": {
          "base_uri": "https://localhost:8080/",
          "height": 134
        },
        "outputId": "1099cd19-bc13-438c-8d3a-4a53bcef001a"
      },
      "source": [
        "x=0\n",
        "print('The greatest no is',max([int(input(x)) for i in range(int(input(\"Enter n\")))]))\n"
      ],
      "execution_count": 5,
      "outputs": [
        {
          "output_type": "stream",
          "text": [
            "Enter n5\n",
            "1\n",
            "2\n",
            "3\n",
            "0\n",
            "-1\n",
            "The greatest no is 3\n"
          ],
          "name": "stdout"
        }
      ]
    },
    {
      "cell_type": "markdown",
      "metadata": {
        "id": "mf-saXSzuvP_",
        "colab_type": "text"
      },
      "source": [
        "Python Program to put the even and odd elements in a list into two different lists. "
      ]
    },
    {
      "cell_type": "code",
      "metadata": {
        "id": "qkj_bDGAu00p",
        "colab_type": "code",
        "colab": {
          "base_uri": "https://localhost:8080/",
          "height": 151
        },
        "outputId": "ab9fe43e-eea0-4f40-fdf8-44e9e0293227"
      },
      "source": [
        "a=[]\n",
        "n=int(input(\"Enter number of elements:\"))\n",
        "for i in range(1,n+1):\n",
        "    b=int(input(\"Enter element:\"))\n",
        "    a.append(b)\n",
        "even=[]\n",
        "odd=[]\n",
        "for j in a:\n",
        "    if(j%2==0):\n",
        "        even.append(j)\n",
        "    else:\n",
        "        odd.append(j)\n",
        "print(\"The even list\",even)\n",
        "print(\"The odd list\",odd)\n"
      ],
      "execution_count": 6,
      "outputs": [
        {
          "output_type": "stream",
          "text": [
            "Enter number of elements:5\n",
            "Enter element:1\n",
            "Enter element:11\n",
            "Enter element:62\n",
            "Enter element:36\n",
            "Enter element:49\n",
            "The even list [62, 36]\n",
            "The odd list [1, 11, 49]\n"
          ],
          "name": "stdout"
        }
      ]
    },
    {
      "cell_type": "markdown",
      "metadata": {
        "id": "iUNmMbwjvFKj",
        "colab_type": "text"
      },
      "source": [
        "Python Program to merge two lists and sort it."
      ]
    },
    {
      "cell_type": "code",
      "metadata": {
        "id": "3XkHQ5jgvLkm",
        "colab_type": "code",
        "colab": {
          "base_uri": "https://localhost:8080/",
          "height": 269
        },
        "outputId": "f35d676a-135b-485e-b9b0-3c2dde41d653"
      },
      "source": [
        "a=[]\n",
        "c=[]\n",
        "n1=int(input(\"Enter number of elements:\"))\n",
        "for i in range(1,n1+1):\n",
        "    b=int(input(\"Enter element:\"))\n",
        "    a.append(b)\n",
        "n2=int(input(\"Enter number of elements:\"))\n",
        "for i in range(1,n2+1):\n",
        "    d=int(input(\"Enter element:\"))\n",
        "    c.append(d)\n",
        "new=a+c\n",
        "new.sort()\n",
        "print(\"Sorted list is:\",new)\n"
      ],
      "execution_count": 7,
      "outputs": [
        {
          "output_type": "stream",
          "text": [
            "Enter number of elements:5\n",
            "Enter element:83\n",
            "Enter element:36\n",
            "Enter element:11\n",
            "Enter element:17\n",
            "Enter element:45\n",
            "Enter number of elements:7\n",
            "Enter element:99\n",
            "Enter element:32\n",
            "Enter element:14\n",
            "Enter element:73\n",
            "Enter element:28\n",
            "Enter element:93\n",
            "Enter element:33\n",
            "Sorted list is: [11, 14, 17, 28, 32, 33, 36, 45, 73, 83, 93, 99]\n"
          ],
          "name": "stdout"
        }
      ]
    },
    {
      "cell_type": "markdown",
      "metadata": {
        "id": "16ssc3vJvX2j",
        "colab_type": "text"
      },
      "source": [
        "Python Program to sort the list according to the second element in the sublist."
      ]
    },
    {
      "cell_type": "code",
      "metadata": {
        "id": "tFioRluNvaHe",
        "colab_type": "code",
        "colab": {
          "base_uri": "https://localhost:8080/",
          "height": 34
        },
        "outputId": "6a6efcb9-926e-4ebe-de24-56b72910734c"
      },
      "source": [
        "a=[['A',34],['B',21],['C',26],['E',29]]\n",
        "for i in range(0,len(a)):\n",
        "    for j in range(i+1,len(a)):\n",
        "        if(a[i][1]>a[j][1]):\n",
        "            temp=a[j]\n",
        "            a[j]=a[i]\n",
        "            a[i]=temp\n",
        " \n",
        "print(a)\n"
      ],
      "execution_count": 8,
      "outputs": [
        {
          "output_type": "stream",
          "text": [
            "[['B', 21], ['C', 26], ['E', 29], ['A', 34]]\n"
          ],
          "name": "stdout"
        }
      ]
    },
    {
      "cell_type": "markdown",
      "metadata": {
        "id": "mrZen5L8v11u",
        "colab_type": "text"
      },
      "source": [
        "Python Program to find the second largest number in a list using bubble sort. "
      ]
    },
    {
      "cell_type": "code",
      "metadata": {
        "id": "7JeoEkdmymOS",
        "colab_type": "code",
        "colab": {
          "base_uri": "https://localhost:8080/",
          "height": 134
        },
        "outputId": "0039c85b-6873-48d5-e81e-80c04ca19083"
      },
      "source": [
        "a=[]\n",
        "n=int(input(\"Enter number of elements:\"))\n",
        "for i in range(1,n+1):\n",
        "    b=int(input(\"Enter element:\"))\n",
        "    a.append(b)\n",
        "for i in range(0,len(a)):\n",
        "    for j in range(0,len(a)-i-1):\n",
        "        if(a[j]>a[j+1]):\n",
        "            temp=a[j]\n",
        "            a[j]=a[j+1]\n",
        "            a[j+1]=temp \n",
        "print('Second largest number is:',a[n-2])\n"
      ],
      "execution_count": 9,
      "outputs": [
        {
          "output_type": "stream",
          "text": [
            "Enter number of elements:5\n",
            "Enter element:55\n",
            "Enter element:2\n",
            "Enter element:6\n",
            "Enter element:24\n",
            "Enter element:11\n",
            "Second largest number is: 24\n"
          ],
          "name": "stdout"
        }
      ]
    },
    {
      "cell_type": "markdown",
      "metadata": {
        "id": "E_5m7Cxiyxoj",
        "colab_type": "text"
      },
      "source": [
        "Program to create a list of tuples with the first element as the number and the second element as the square of the number. "
      ]
    },
    {
      "cell_type": "code",
      "metadata": {
        "id": "oHifBMehyzlD",
        "colab_type": "code",
        "colab": {
          "base_uri": "https://localhost:8080/",
          "height": 87
        },
        "outputId": "95efafee-4bbe-4581-906e-2e6b20bee07d"
      },
      "source": [
        "l_range=int(input(\"Enter the lower range:\"))\n",
        "u_range=int(input(\"Enter the upper range:\"))\n",
        "a=[(x,x**2) for x in range(l_range,u_range+1)]\n",
        "print(a)\n"
      ],
      "execution_count": 10,
      "outputs": [
        {
          "output_type": "stream",
          "text": [
            "Enter the lower range:2\n",
            "Enter the upper range:44\n",
            "[(2, 4), (3, 9), (4, 16), (5, 25), (6, 36), (7, 49), (8, 64), (9, 81), (10, 100), (11, 121), (12, 144), (13, 169), (14, 196), (15, 225), (16, 256), (17, 289), (18, 324), (19, 361), (20, 400), (21, 441), (22, 484), (23, 529), (24, 576), (25, 625), (26, 676), (27, 729), (28, 784), (29, 841), (30, 900), (31, 961), (32, 1024), (33, 1089), (34, 1156), (35, 1225), (36, 1296), (37, 1369), (38, 1444), (39, 1521), (40, 1600), (41, 1681), (42, 1764), (43, 1849), (44, 1936)]\n"
          ],
          "name": "stdout"
        }
      ]
    },
    {
      "cell_type": "markdown",
      "metadata": {
        "id": "Wo8cBszrzA8Z",
        "colab_type": "text"
      },
      "source": [
        "Python Program to generate random numbers from 1 to 20 and append them to the list."
      ]
    },
    {
      "cell_type": "code",
      "metadata": {
        "id": "u8hC3h9hzEkB",
        "colab_type": "code",
        "colab": {
          "base_uri": "https://localhost:8080/",
          "height": 50
        },
        "outputId": "64bfe133-ea24-4856-e0da-0009cea5ae35"
      },
      "source": [
        "import random\n",
        "a=[]\n",
        "n=int(input(\"Enter number of elements:\"))\n",
        "for j in range(n):\n",
        "    a.append(random.randint(1,20))\n",
        "print('Randomised list is: ',a)\n"
      ],
      "execution_count": 11,
      "outputs": [
        {
          "output_type": "stream",
          "text": [
            "Enter number of elements:4\n",
            "Randomised list is:  [17, 16, 14, 8]\n"
          ],
          "name": "stdout"
        }
      ]
    },
    {
      "cell_type": "markdown",
      "metadata": {
        "id": "tZWxznT7GTk-",
        "colab_type": "text"
      },
      "source": [
        "Write python program to have a list of words  to sort them from longest to shortest using list of tuples"
      ]
    },
    {
      "cell_type": "code",
      "metadata": {
        "id": "3FYASCibGVeq",
        "colab_type": "code",
        "colab": {
          "base_uri": "https://localhost:8080/",
          "height": 34
        },
        "outputId": "1baa3d99-0aaf-48f5-d1c7-77e75aff3a1e"
      },
      "source": [
        "txt = 'but soft what light in yonder window breaks'\n",
        "words = txt.split()\n",
        "t = list()\n",
        "for word in words:\n",
        "   t.append((len(word), word))\n",
        "t.sort(reverse=True)\n",
        "\n",
        "res = list()\n",
        "for length, word in t:\n",
        "    res.append(word)\n",
        "\n",
        "print(res)\n"
      ],
      "execution_count": 13,
      "outputs": [
        {
          "output_type": "stream",
          "text": [
            "['yonder', 'window', 'breaks', 'light', 'what', 'soft', 'but', 'in']\n"
          ],
          "name": "stdout"
        }
      ]
    },
    {
      "cell_type": "markdown",
      "metadata": {
        "id": "lt70brjzGYre",
        "colab_type": "text"
      },
      "source": [
        "Python program that assigns variables"
      ]
    },
    {
      "cell_type": "code",
      "metadata": {
        "id": "poXSrbIAGcOG",
        "colab_type": "code",
        "colab": {
          "base_uri": "https://localhost:8080/",
          "height": 50
        },
        "outputId": "dcf7857c-a574-4f22-c5b5-010a510349a0"
      },
      "source": [
        "# Create packed tuple.\n",
        "pair = (\"dog\", \"cat\")\n",
        "\n",
        "# Unpack tuple.\n",
        "(key, value) = pair\n",
        "\n",
        "# Display unpacked variables.\n",
        "print(key)\n",
        "print(value)\n"
      ],
      "execution_count": 14,
      "outputs": [
        {
          "output_type": "stream",
          "text": [
            "dog\n",
            "cat\n"
          ],
          "name": "stdout"
        }
      ]
    },
    {
      "cell_type": "markdown",
      "metadata": {
        "id": "FJgaC6feGeMR",
        "colab_type": "text"
      },
      "source": [
        "Python program that searches tuples"
      ]
    },
    {
      "cell_type": "code",
      "metadata": {
        "id": "YLLxh_RfGgCv",
        "colab_type": "code",
        "colab": {
          "base_uri": "https://localhost:8080/",
          "height": 50
        },
        "outputId": "eef2a047-f350-4282-d809-c37f5ac4b9e8"
      },
      "source": [
        "pair = (\"dog\", \"cat\")\n",
        "\n",
        "# Search for a value.\n",
        "if \"cat\" in pair:\n",
        "    print(\"Cat found\")\n",
        "\n",
        "# Search for a value not present.\n",
        "if \"bird\" not in pair:\n",
        "    print(\"Bird not found\")\n"
      ],
      "execution_count": 15,
      "outputs": [
        {
          "output_type": "stream",
          "text": [
            "Cat found\n",
            "Bird not found\n"
          ],
          "name": "stdout"
        }
      ]
    }
  ]
}